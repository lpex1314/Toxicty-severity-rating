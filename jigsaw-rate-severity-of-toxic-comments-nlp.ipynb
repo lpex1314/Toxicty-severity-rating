{
 "cells": [
  {
   "cell_type": "markdown",
   "metadata": {},
   "source": [
    "# Setup"
   ]
  },
  {
   "cell_type": "code",
   "execution_count": 1,
   "metadata": {
    "_cell_guid": "961ec320-10b6-402f-9db1-19aabbbca445",
    "_uuid": "e77913c0-bd7f-4241-bb4f-e74d2c90da52",
    "collapsed": false,
    "execution": {
     "iopub.execute_input": "2025-05-15T21:22:02.805041Z",
     "iopub.status.busy": "2025-05-15T21:22:02.804659Z",
     "iopub.status.idle": "2025-05-15T21:22:05.290310Z",
     "shell.execute_reply": "2025-05-15T21:22:05.289351Z",
     "shell.execute_reply.started": "2025-05-15T21:22:02.805015Z"
    },
    "jupyter": {
     "outputs_hidden": false
    },
    "papermill": {
     "duration": 1.944277,
     "end_time": "2022-02-08T08:53:00.204365",
     "exception": false,
     "start_time": "2022-02-08T08:52:58.260088",
     "status": "completed"
    },
    "tags": [],
    "trusted": true
   },
   "outputs": [],
   "source": [
    "import numpy as np # linear algebra\n",
    "import pandas as pd # data processing, CSV file I/O (e.g. pd.read_csv)\n",
    "from tqdm.auto import tqdm\n",
    "from bs4 import BeautifulSoup\n",
    "from collections import defaultdict\n",
    "from sklearn.feature_extraction.text import TfidfVectorizer"
   ]
  },
  {
   "cell_type": "code",
   "execution_count": null,
   "metadata": {
    "_cell_guid": "3ea2e9b7-55ab-45e7-a093-16c6fafe6414",
    "_uuid": "0dcc3435-e1ea-4376-bfce-b349027934bb",
    "collapsed": false,
    "execution": {
     "iopub.execute_input": "2025-05-15T21:22:05.977704Z",
     "iopub.status.busy": "2025-05-15T21:22:05.977456Z",
     "iopub.status.idle": "2025-05-15T21:22:05.981775Z",
     "shell.execute_reply": "2025-05-15T21:22:05.980971Z",
     "shell.execute_reply.started": "2025-05-15T21:22:05.977685Z"
    },
    "jupyter": {
     "outputs_hidden": false
    },
    "trusted": true
   },
   "outputs": [],
   "source": [
    "import re \n",
    "import scipy\n",
    "from scipy import sparse\n",
    "from matplotlib import pyplot as plt\n",
    "from xgboost.callback import TrainingCallback"
   ]
  },
  {
   "cell_type": "code",
   "execution_count": null,
   "metadata": {
    "_cell_guid": "8113f305-afb8-4c33-a58e-e8bc7085ec81",
    "_uuid": "ea3ce946-7406-4b03-bf1d-e48c94b4f2b1",
    "collapsed": false,
    "execution": {
     "iopub.execute_input": "2025-05-15T21:22:05.982938Z",
     "iopub.status.busy": "2025-05-15T21:22:05.982691Z",
     "iopub.status.idle": "2025-05-15T21:22:05.993937Z",
     "shell.execute_reply": "2025-05-15T21:22:05.993117Z",
     "shell.execute_reply.started": "2025-05-15T21:22:05.982920Z"
    },
    "jupyter": {
     "outputs_hidden": false
    },
    "trusted": true
   },
   "outputs": [],
   "source": [
    "import time\n",
    "import scipy.optimize as optimize\n",
    "import warnings\n",
    "warnings.filterwarnings(\"ignore\")\n",
    "pd.options.display.max_colwidth=300\n",
    "pd.options.display.max_columns = 100"
   ]
  },
  {
   "cell_type": "code",
   "execution_count": null,
   "metadata": {
    "_cell_guid": "247b3b21-1a87-4ca8-a79e-41312474d2d8",
    "_uuid": "97041db0-e9de-4c95-8c45-993e4387abd0",
    "collapsed": false,
    "execution": {
     "iopub.execute_input": "2025-05-15T21:22:05.996334Z",
     "iopub.status.busy": "2025-05-15T21:22:05.996036Z",
     "iopub.status.idle": "2025-05-15T21:22:06.228950Z",
     "shell.execute_reply": "2025-05-15T21:22:06.228316Z",
     "shell.execute_reply.started": "2025-05-15T21:22:05.996304Z"
    },
    "jupyter": {
     "outputs_hidden": false
    },
    "trusted": true
   },
   "outputs": [],
   "source": [
    "from sklearn.model_selection import train_test_split\n",
    "from sklearn.linear_model import Ridge, Lasso, BayesianRidge\n",
    "import xgboost"
   ]
  },
  {
   "cell_type": "code",
   "execution_count": null,
   "metadata": {
    "_cell_guid": "e8734166-2727-4459-890e-2438b057b554",
    "_uuid": "3feade61-870e-4347-8682-9feda2286b56",
    "collapsed": false,
    "execution": {
     "iopub.execute_input": "2025-05-15T21:22:06.229981Z",
     "iopub.status.busy": "2025-05-15T21:22:06.229754Z",
     "iopub.status.idle": "2025-05-15T21:22:21.052950Z",
     "shell.execute_reply": "2025-05-15T21:22:21.052156Z",
     "shell.execute_reply.started": "2025-05-15T21:22:06.229963Z"
    },
    "jupyter": {
     "outputs_hidden": false
    },
    "trusted": true
   },
   "outputs": [],
   "source": [
    "# ========== unify random seeds ==========\n",
    "import os, random, torch\n",
    "import transformers\n",
    "from transformers.trainer_utils import set_seed           # HuggingFace exclusive\n",
    "import xgboost                             \n",
    "\n",
    "SEED = 42                                   \n",
    "\n",
    "# 1) Python built-in\n",
    "random.seed(SEED)\n",
    "\n",
    "# 2) environment variable\n",
    "#    (Python hash randomization, not all Python versions)\n",
    "os.environ[\"PYTHONHASHSEED\"] = str(SEED)\n",
    "\n",
    "# 3) NumPy\n",
    "np.random.seed(SEED)\n",
    "\n",
    "# 4) PyTorch\n",
    "torch.manual_seed(SEED)                     # CPU\n",
    "torch.cuda.manual_seed_all(SEED)            # all GPU\n",
    "torch.backends.cudnn.deterministic = True   # algorithm deterministic\n",
    "torch.backends.cudnn.benchmark = False      \n",
    "\n",
    "\n",
    "# 5) HuggingFace（set random & numpy & torch all in once）\n",
    "# set_seed(SEED)\n",
    "\n",
    "# 6) XGBoost —— Specify random_state/seed in model / DMatrix.\n",
    "xgb_rand_params = {\n",
    "    \"random_state\": SEED,   # Synonymous with sklearn's random_state\n",
    "    \"seed\": SEED            # XGBoost own seed\n",
    "}"
   ]
  },
  {
   "cell_type": "markdown",
   "metadata": {},
   "source": [
    "# Data preparation"
   ]
  },
  {
   "cell_type": "code",
   "execution_count": null,
   "metadata": {
    "_cell_guid": "8e2500b6-692b-4691-b3d7-eb5d82b30774",
    "_uuid": "7f1d4a64-1f7b-4ea6-b434-82c9ce0687dd",
    "collapsed": false,
    "execution": {
     "iopub.execute_input": "2025-05-15T22:15:34.250723Z",
     "iopub.status.busy": "2025-05-15T22:15:34.250012Z",
     "iopub.status.idle": "2025-05-15T22:15:35.193520Z",
     "shell.execute_reply": "2025-05-15T22:15:35.192473Z",
     "shell.execute_reply.started": "2025-05-15T22:15:34.250691Z"
    },
    "jupyter": {
     "outputs_hidden": false
    },
    "papermill": {
     "duration": 3.173883,
     "end_time": "2022-02-08T08:53:03.399765",
     "exception": false,
     "start_time": "2022-02-08T08:53:00.225882",
     "status": "completed"
    },
    "tags": [],
    "trusted": true
   },
   "outputs": [],
   "source": [
    "train = pd.read_csv(filepath_or_buffer=\"/kaggle/input/jigsaw-toxic-comment-classification-challenge/train.csv\")\n",
    "comm_score = pd.read_csv(filepath_or_buffer=\"../input/jigsaw-toxic-severity-rating/comments_to_score.csv\")"
   ]
  },
  {
   "cell_type": "code",
   "execution_count": null,
   "metadata": {
    "_cell_guid": "35da085c-3f76-4378-9cce-521d94f73312",
    "_uuid": "c771fa7d-a839-442a-a9f7-08767f61dd58",
    "collapsed": false,
    "execution": {
     "iopub.execute_input": "2025-05-15T22:15:37.046350Z",
     "iopub.status.busy": "2025-05-15T22:15:37.045997Z",
     "iopub.status.idle": "2025-05-15T22:15:37.057034Z",
     "shell.execute_reply": "2025-05-15T22:15:37.056130Z",
     "shell.execute_reply.started": "2025-05-15T22:15:37.046322Z"
    },
    "jupyter": {
     "outputs_hidden": false
    },
    "papermill": {
     "duration": 0.043003,
     "end_time": "2022-02-08T08:53:03.46355",
     "exception": false,
     "start_time": "2022-02-08T08:53:03.420547",
     "status": "completed"
    },
    "tags": [],
    "trusted": true
   },
   "outputs": [],
   "source": [
    "train.head()"
   ]
  },
  {
   "cell_type": "code",
   "execution_count": null,
   "metadata": {
    "_cell_guid": "634a875c-9968-4d14-b52d-80ddebffc22e",
    "_uuid": "c9849334-c2aa-4d82-95a0-086a2a55d3ac",
    "collapsed": false,
    "execution": {
     "iopub.execute_input": "2025-05-15T22:15:42.477952Z",
     "iopub.status.busy": "2025-05-15T22:15:42.477629Z",
     "iopub.status.idle": "2025-05-15T22:15:42.483694Z",
     "shell.execute_reply": "2025-05-15T22:15:42.482914Z",
     "shell.execute_reply.started": "2025-05-15T22:15:42.477927Z"
    },
    "jupyter": {
     "outputs_hidden": false
    },
    "papermill": {
     "duration": 0.029173,
     "end_time": "2022-02-08T08:53:03.514499",
     "exception": false,
     "start_time": "2022-02-08T08:53:03.485326",
     "status": "completed"
    },
    "tags": [],
    "trusted": true
   },
   "outputs": [],
   "source": [
    "train.shape"
   ]
  },
  {
   "cell_type": "code",
   "execution_count": null,
   "metadata": {
    "_cell_guid": "f000c86e-b4a4-44d1-b657-1049815c7d11",
    "_uuid": "42c1d86e-9e87-4fd9-b974-9a4881af7ceb",
    "collapsed": false,
    "execution": {
     "iopub.execute_input": "2025-05-15T22:16:03.475408Z",
     "iopub.status.busy": "2025-05-15T22:16:03.474802Z",
     "iopub.status.idle": "2025-05-15T22:16:03.519776Z",
     "shell.execute_reply": "2025-05-15T22:16:03.518903Z",
     "shell.execute_reply.started": "2025-05-15T22:16:03.475380Z"
    },
    "jupyter": {
     "outputs_hidden": false
    },
    "papermill": {
     "duration": 0.121662,
     "end_time": "2022-02-08T08:53:03.761437",
     "exception": false,
     "start_time": "2022-02-08T08:53:03.639775",
     "status": "completed"
    },
    "tags": [],
    "trusted": true
   },
   "outputs": [],
   "source": [
    "'''\n",
    "This code assigns a weight to each toxic label based on the severity of the comment.\n",
    "We then sum the weighted labels to create a new score for each comment, allowing us to do regression\n",
    "instead of classification.\n",
    "The weights are as follows:\n",
    "- obscene: 0.16\n",
    "- toxic: 0.32\n",
    "- threat: 1.5\n",
    "- insult: 0.64\n",
    "- severe_toxic: 1.5\n",
    "- identity_hate: 1.5\n",
    "'''\n",
    "label_score = {'obscene': 0.16, 'toxic': 0.32, 'threat': 1.5, \n",
    "            'insult': 0.64, 'severe_toxic': 1.5, 'identity_hate': 1.5}\n",
    "\n",
    "for category in label_score:\n",
    "    train[category] = train[category] * label_score[category]\n",
    "\n",
    "train['score'] = train.loc[:, 'toxic':'identity_hate'].sum(axis=1)\n",
    "\n",
    "train['y'] = train['score']\n",
    "\n",
    "train.head()"
   ]
  },
  {
   "cell_type": "code",
   "execution_count": null,
   "metadata": {
    "_cell_guid": "6334000f-1436-448f-9b31-ebe041733e45",
    "_uuid": "edfe80fc-6121-4252-858a-438ae023852a",
    "collapsed": false,
    "execution": {
     "iopub.execute_input": "2025-05-15T22:16:14.601995Z",
     "iopub.status.busy": "2025-05-15T22:16:14.601337Z",
     "iopub.status.idle": "2025-05-15T22:16:14.607274Z",
     "shell.execute_reply": "2025-05-15T22:16:14.606408Z",
     "shell.execute_reply.started": "2025-05-15T22:16:14.601968Z"
    },
    "jupyter": {
     "outputs_hidden": false
    },
    "papermill": {
     "duration": 0.029198,
     "end_time": "2022-02-08T08:53:03.813084",
     "exception": false,
     "start_time": "2022-02-08T08:53:03.783886",
     "status": "completed"
    },
    "tags": [],
    "trusted": true
   },
   "outputs": [],
   "source": [
    "train.shape"
   ]
  },
  {
   "cell_type": "code",
   "execution_count": null,
   "metadata": {
    "_cell_guid": "17bbec8a-d689-46b4-b242-32806ba94aa4",
    "_uuid": "db1f2da2-8c33-4d80-a25a-2b5e1b32522c",
    "collapsed": false,
    "execution": {
     "iopub.execute_input": "2025-05-15T22:16:41.913515Z",
     "iopub.status.busy": "2025-05-15T22:16:41.912916Z",
     "iopub.status.idle": "2025-05-15T22:16:41.929788Z",
     "shell.execute_reply": "2025-05-15T22:16:41.928915Z",
     "shell.execute_reply.started": "2025-05-15T22:16:41.913485Z"
    },
    "jupyter": {
     "outputs_hidden": false
    },
    "papermill": {
     "duration": 0.036758,
     "end_time": "2022-02-08T08:53:03.996994",
     "exception": false,
     "start_time": "2022-02-08T08:53:03.960236",
     "status": "completed"
    },
    "tags": [],
    "trusted": true
   },
   "outputs": [],
   "source": [
    "train = train.rename(columns={'comment_text':'comment'})"
   ]
  },
  {
   "cell_type": "code",
   "execution_count": null,
   "metadata": {
    "_cell_guid": "5fa95945-a16f-4a0d-b407-0f79dc0b7b1a",
    "_uuid": "e4127cc5-37cd-49ac-91dc-7c698f9968f1",
    "collapsed": false,
    "execution": {
     "iopub.execute_input": "2025-05-15T21:22:23.023769Z",
     "iopub.status.busy": "2025-05-15T21:22:23.023447Z",
     "iopub.status.idle": "2025-05-15T21:22:23.029881Z",
     "shell.execute_reply": "2025-05-15T21:22:23.029054Z",
     "shell.execute_reply.started": "2025-05-15T21:22:23.023742Z"
    },
    "jupyter": {
     "outputs_hidden": false
    },
    "papermill": {
     "duration": 0.031157,
     "end_time": "2022-02-08T08:53:04.051103",
     "exception": false,
     "start_time": "2022-02-08T08:53:04.019946",
     "status": "completed"
    },
    "tags": [],
    "trusted": true
   },
   "outputs": [],
   "source": [
    "'''\n",
    "This function is used to clean the text data by removing unwanted characters, links, emojis, and HTML tags.\n",
    "It uses regular expressions to identify and remove these elements, and BeautifulSoup to parse HTML content.\n",
    "The function takes a string input 'text' and returns a cleaned version of the text.\n",
    "The cleaning process includes:\n",
    "1. Removing website links using a regex pattern.\n",
    "2. Parsing the text with BeautifulSoup to remove HTML tags.\n",
    "3. Removing emojis using a regex pattern.\n",
    "4. Removing special characters and non-alphanumeric characters.\n",
    "5. Removing extra spaces.   \n",
    "Arguments:\n",
    "    text: str : The input text to be cleaned.\n",
    "Returns:\n",
    "    str : The cleaned text.\n",
    "'''\n",
    "\n",
    "def text_cleaning(text):\n",
    "    \n",
    "    template = re.compile(r'https?://\\S+|www\\.\\S+') #Removes website links\n",
    "    text = template.sub(r'', text)\n",
    "    \n",
    "    soup = BeautifulSoup(text, 'lxml') #Removes HTML tags\n",
    "    only_text = soup.get_text()\n",
    "    text = only_text\n",
    "    \n",
    "    emoji_pattern = re.compile(\"[\"\n",
    "                               u\"\\U0001F600-\\U0001F64F\"  # emoticons\n",
    "                               u\"\\U0001F300-\\U0001F5FF\"  # symbols & pictographs\n",
    "                               u\"\\U0001F680-\\U0001F6FF\"  # transport & map symbols\n",
    "                               u\"\\U0001F1E0-\\U0001F1FF\"  # flags (iOS)\n",
    "                               u\"\\U00002702-\\U000027B0\"\n",
    "                               u\"\\U000024C2-\\U0001F251\"\n",
    "                               \"]+\", flags=re.UNICODE)\n",
    "    text = emoji_pattern.sub(r'', text)\n",
    "    \n",
    "    text = re.sub(r\"[^a-zA-Z\\d]\", \" \", text) #Remove special Charecters\n",
    "    text = re.sub(' +', ' ', text) #Remove Extra Spaces\n",
    "    text = text.strip() # remove spaces at the beginning and at the end of string\n",
    "\n",
    "    return text"
   ]
  },
  {
   "cell_type": "code",
   "execution_count": null,
   "metadata": {
    "_cell_guid": "86301230-3fcf-46e8-bad1-839dbe1db0e8",
    "_uuid": "e20dd99c-a081-47a3-9dda-1aefd98b7938",
    "collapsed": false,
    "execution": {
     "iopub.execute_input": "2025-05-15T22:16:49.238348Z",
     "iopub.status.busy": "2025-05-15T22:16:49.237710Z",
     "iopub.status.idle": "2025-05-15T22:17:22.093394Z",
     "shell.execute_reply": "2025-05-15T22:17:22.092686Z",
     "shell.execute_reply.started": "2025-05-15T22:16:49.238311Z"
    },
    "jupyter": {
     "outputs_hidden": false
    },
    "papermill": {
     "duration": 47.813373,
     "end_time": "2022-02-08T08:53:51.888261",
     "exception": false,
     "start_time": "2022-02-08T08:53:04.074888",
     "status": "completed"
    },
    "tags": [],
    "trusted": true
   },
   "outputs": [],
   "source": [
    "train['comment'] = train['comment'].apply(text_cleaning)"
   ]
  },
  {
   "cell_type": "code",
   "execution_count": null,
   "metadata": {
    "_cell_guid": "f637ec42-aeda-4c88-bd25-f6d59a0af3fb",
    "_uuid": "f8ffd851-427a-422a-93c0-a831164dd4b9",
    "collapsed": false,
    "execution": {
     "iopub.execute_input": "2025-05-15T22:17:41.552721Z",
     "iopub.status.busy": "2025-05-15T22:17:41.552394Z",
     "iopub.status.idle": "2025-05-15T22:17:41.574740Z",
     "shell.execute_reply": "2025-05-15T22:17:41.574011Z",
     "shell.execute_reply.started": "2025-05-15T22:17:41.552698Z"
    },
    "jupyter": {
     "outputs_hidden": false
    },
    "papermill": {
     "duration": 0.046901,
     "end_time": "2022-02-08T08:53:51.959682",
     "exception": false,
     "start_time": "2022-02-08T08:53:51.912781",
     "status": "completed"
    },
    "tags": [],
    "trusted": true
   },
   "outputs": [],
   "source": [
    "df = train.copy()"
   ]
  },
  {
   "cell_type": "code",
   "execution_count": null,
   "metadata": {
    "_cell_guid": "251c8c93-092d-4836-b0c0-664a0b846e29",
    "_uuid": "de74cb51-7d23-4cee-908b-fb604e75363a",
    "collapsed": false,
    "execution": {
     "iopub.execute_input": "2025-05-15T22:18:44.011490Z",
     "iopub.status.busy": "2025-05-15T22:18:44.011148Z",
     "iopub.status.idle": "2025-05-15T22:18:44.020495Z",
     "shell.execute_reply": "2025-05-15T22:18:44.019647Z",
     "shell.execute_reply.started": "2025-05-15T22:18:44.011466Z"
    },
    "jupyter": {
     "outputs_hidden": false
    },
    "papermill": {
     "duration": 0.03555,
     "end_time": "2022-02-08T08:53:52.152059",
     "exception": false,
     "start_time": "2022-02-08T08:53:52.116509",
     "status": "completed"
    },
    "tags": [],
    "trusted": true
   },
   "outputs": [],
   "source": [
    "df['y'].value_counts()"
   ]
  },
  {
   "cell_type": "code",
   "execution_count": null,
   "metadata": {
    "_cell_guid": "52f13755-3037-4313-9fb1-09ab2e5a5ea7",
    "_uuid": "b33d0af4-6143-48be-88a5-384d2c895285",
    "collapsed": false,
    "execution": {
     "iopub.execute_input": "2025-05-15T22:18:56.672284Z",
     "iopub.status.busy": "2025-05-15T22:18:56.671703Z",
     "iopub.status.idle": "2025-05-15T22:18:56.687009Z",
     "shell.execute_reply": "2025-05-15T22:18:56.685928Z",
     "shell.execute_reply.started": "2025-05-15T22:18:56.672254Z"
    },
    "jupyter": {
     "outputs_hidden": false
    },
    "papermill": {
     "duration": 0.04242,
     "end_time": "2022-02-08T08:53:52.385795",
     "exception": false,
     "start_time": "2022-02-08T08:53:52.343375",
     "status": "completed"
    },
    "tags": [],
    "trusted": true
   },
   "outputs": [],
   "source": [
    "df.head()"
   ]
  },
  {
   "cell_type": "markdown",
   "metadata": {
    "_cell_guid": "8ed533b4-124c-4628-8bd1-f68bc103494b",
    "_uuid": "ec542a47-fcf6-4783-8f12-57caac949801",
    "collapsed": false,
    "jupyter": {
     "outputs_hidden": false
    },
    "trusted": true
   },
   "source": [
    "# BERT Encoding Method"
   ]
  },
  {
   "cell_type": "code",
   "execution_count": null,
   "metadata": {
    "_cell_guid": "9e42740f-9342-4f7c-8946-5b2f23c3654e",
    "_uuid": "5c772ad6-15a2-405b-bd3c-a01eb6f74054",
    "collapsed": false,
    "execution": {
     "iopub.execute_input": "2025-05-15T22:19:08.260955Z",
     "iopub.status.busy": "2025-05-15T22:19:08.260321Z",
     "iopub.status.idle": "2025-05-15T22:19:08.315394Z",
     "shell.execute_reply": "2025-05-15T22:19:08.314474Z",
     "shell.execute_reply.started": "2025-05-15T22:19:08.260927Z"
    },
    "jupyter": {
     "outputs_hidden": false
    },
    "trusted": true
   },
   "outputs": [],
   "source": [
    "\n",
    "train_texts, val_texts, train_targets, val_targets = train_test_split(\n",
    "    df['comment'].tolist(), \n",
    "    df['y'].values, \n",
    "    test_size=0.2,        # 20% as validation set\n",
    "    random_state=42, \n",
    "    shuffle=True\n",
    ")"
   ]
  },
  {
   "cell_type": "code",
   "execution_count": null,
   "metadata": {
    "_cell_guid": "18c7f191-e7c6-4e1d-bcab-df79ccc5f509",
    "_uuid": "02006cd3-947f-4dbe-aad5-db38c69449c3",
    "collapsed": false,
    "execution": {
     "iopub.execute_input": "2025-05-15T22:19:34.346964Z",
     "iopub.status.busy": "2025-05-15T22:19:34.346332Z",
     "iopub.status.idle": "2025-05-15T22:19:34.352267Z",
     "shell.execute_reply": "2025-05-15T22:19:34.351334Z",
     "shell.execute_reply.started": "2025-05-15T22:19:34.346936Z"
    },
    "jupyter": {
     "outputs_hidden": false
    },
    "trusted": true
   },
   "outputs": [],
   "source": [
    "len(train_texts)"
   ]
  },
  {
   "cell_type": "markdown",
   "metadata": {
    "_cell_guid": "7cc49e4c-8e68-4406-b497-acee5040d12b",
    "_uuid": "32d9258e-8491-4f54-ab48-d57443060a4f",
    "collapsed": false,
    "jupyter": {
     "outputs_hidden": false
    },
    "trusted": true
   },
   "source": [
    "## Feature Engineering Improvements\n",
    "Use richer text vectors\n",
    "Current use: TF-IDF (sparse, bag-of-words model)\n",
    "\n",
    "Improvement Direction:\n",
    "\n",
    "Use [CLS] vectors or mean pooling of Transformer representations (e.g. BERT, RoBERTa), which is often much better than TF-IDF."
   ]
  },
  {
   "cell_type": "code",
   "execution_count": null,
   "metadata": {
    "_cell_guid": "b4ac10b9-022a-4bcb-8088-40d574a4582a",
    "_uuid": "26fdc4ae-059a-4db1-be15-d1a5100ac5d7",
    "collapsed": false,
    "execution": {
     "iopub.execute_input": "2025-05-15T21:22:55.431635Z",
     "iopub.status.busy": "2025-05-15T21:22:55.431399Z",
     "iopub.status.idle": "2025-05-15T21:22:55.435262Z",
     "shell.execute_reply": "2025-05-15T21:22:55.434355Z",
     "shell.execute_reply.started": "2025-05-15T21:22:55.431616Z"
    },
    "jupyter": {
     "outputs_hidden": false
    },
    "trusted": true
   },
   "outputs": [],
   "source": [
    "model_name = 'bert-base-uncased'\n",
    "model_path = '/kaggle/input/bert_base_uncased/pytorch/default/1/bert_base_uncased'"
   ]
  },
  {
   "cell_type": "code",
   "execution_count": null,
   "metadata": {
    "_cell_guid": "274bc89f-4aad-45aa-a861-8b4a03f97475",
    "_uuid": "7ad33b6b-cbe2-4a5d-a019-77563b008dd7",
    "collapsed": false,
    "execution": {
     "iopub.execute_input": "2025-05-15T21:22:55.436641Z",
     "iopub.status.busy": "2025-05-15T21:22:55.436327Z",
     "iopub.status.idle": "2025-05-15T21:23:01.854073Z",
     "shell.execute_reply": "2025-05-15T21:23:01.853193Z",
     "shell.execute_reply.started": "2025-05-15T21:22:55.436615Z"
    },
    "jupyter": {
     "outputs_hidden": false
    },
    "trusted": true
   },
   "outputs": [],
   "source": [
    "tokenizer = transformers.AutoTokenizer.from_pretrained(model_name)\n",
    "bert = transformers.AutoModel.from_pretrained(model_name)\n",
    "bert.eval()\n",
    "device = torch.device(\"cuda\" if torch.cuda.is_available() else \"cpu\")\n",
    "bert.to(device)"
   ]
  },
  {
   "cell_type": "code",
   "execution_count": null,
   "metadata": {
    "_cell_guid": "e4536de3-a0ae-4930-af6e-87520fb654ca",
    "_uuid": "f45ccf00-d51a-4973-94eb-3604065fa33d",
    "collapsed": false,
    "execution": {
     "iopub.execute_input": "2025-05-15T22:19:49.496754Z",
     "iopub.status.busy": "2025-05-15T22:19:49.496145Z",
     "iopub.status.idle": "2025-05-15T22:19:49.501829Z",
     "shell.execute_reply": "2025-05-15T22:19:49.501000Z",
     "shell.execute_reply.started": "2025-05-15T22:19:49.496723Z"
    },
    "jupyter": {
     "outputs_hidden": false
    },
    "trusted": true
   },
   "outputs": [],
   "source": [
    "device"
   ]
  },
  {
   "cell_type": "code",
   "execution_count": null,
   "metadata": {
    "_cell_guid": "1565fc43-6d94-48da-8eaf-9f70e24d8d29",
    "_uuid": "e43707f3-4e27-4b26-956a-b3f48e6ae0d6",
    "collapsed": false,
    "execution": {
     "iopub.execute_input": "2025-05-15T22:19:56.122889Z",
     "iopub.status.busy": "2025-05-15T22:19:56.122551Z",
     "iopub.status.idle": "2025-05-15T22:19:56.128501Z",
     "shell.execute_reply": "2025-05-15T22:19:56.127700Z",
     "shell.execute_reply.started": "2025-05-15T22:19:56.122864Z"
    },
    "jupyter": {
     "outputs_hidden": false
    },
    "trusted": true
   },
   "outputs": [],
   "source": [
    "'''\n",
    "This funtion serves to extract the [CLS] token embeddings from the BERT model.\n",
    "'''\n",
    "# extract [CLS] embedding function\n",
    "def get_cls_embeddings(texts, batch_size=16, max_length=128):\n",
    "    all_embeddings = []\n",
    "\n",
    "    with torch.no_grad():\n",
    "        for i in tqdm(range(0, len(texts), batch_size)):\n",
    "            batch_texts = texts[i:i+batch_size]\n",
    "            encoding = tokenizer(\n",
    "                batch_texts,\n",
    "                return_tensors='pt',\n",
    "                padding=True,\n",
    "                truncation=True,\n",
    "                max_length=max_length\n",
    "            ).to(device)\n",
    "\n",
    "            outputs = bert(**encoding)\n",
    "            cls_embeddings = outputs.last_hidden_state[:, 0, :]\n",
    "            all_embeddings.append(cls_embeddings.cpu().numpy())\n",
    "    return np.vstack(all_embeddings)"
   ]
  },
  {
   "cell_type": "code",
   "execution_count": null,
   "metadata": {
    "_cell_guid": "8e9eafff-c2c4-40e2-9308-4db25d2cd5fc",
    "_uuid": "04c2e24a-d175-4e90-a3ba-67c2b6003dd7",
    "collapsed": false,
    "execution": {
     "iopub.execute_input": "2025-05-15T23:00:15.600869Z",
     "iopub.status.busy": "2025-05-15T23:00:15.600514Z",
     "iopub.status.idle": "2025-05-15T23:10:21.975678Z",
     "shell.execute_reply": "2025-05-15T23:10:21.974682Z",
     "shell.execute_reply.started": "2025-05-15T23:00:15.600841Z"
    },
    "jupyter": {
     "outputs_hidden": false
    },
    "trusted": true
   },
   "outputs": [],
   "source": [
    "X_train = get_cls_embeddings(train_texts)\n",
    "X_val = get_cls_embeddings(val_texts)"
   ]
  },
  {
   "cell_type": "markdown",
   "metadata": {},
   "source": [
    "## Hyperparameter selection\n",
    "The code cell below  is used for grid search with 5-fold cross-validation\n"
   ]
  },
  {
   "cell_type": "code",
   "execution_count": null,
   "metadata": {
    "_cell_guid": "606b8454-6aba-4535-88e4-a2ee016dae12",
    "_uuid": "eca36771-6614-4920-9438-ed9228225075",
    "collapsed": false,
    "execution": {
     "iopub.execute_input": "2025-05-15T21:26:03.329879Z",
     "iopub.status.busy": "2025-05-15T21:26:03.329650Z",
     "iopub.status.idle": "2025-05-15T21:26:03.341839Z",
     "shell.execute_reply": "2025-05-15T21:26:03.341045Z",
     "shell.execute_reply.started": "2025-05-15T21:26:03.329861Z"
    },
    "jupyter": {
     "outputs_hidden": false
    },
    "trusted": true
   },
   "outputs": [],
   "source": [
    "from sklearn.model_selection import GridSearchCV\n",
    "import os\n",
    "os.environ[\"TOKENIZERS_PARALLELISM\"] = \"false\"\n",
    "\n",
    "# define the XGBoost regressor with BERT embeddings\n",
    "xgb_regressor_with_bert = xgboost.XGBRegressor(\n",
    "    n_estimators=1500,\n",
    "    objective='reg:squarederror',\n",
    "    tree_method='hist',\n",
    "    device='cuda',\n",
    "    predictor='gpu_predictor',\n",
    "    random_state=42,\n",
    "    reg_lambda=5.0,\n",
    "    reg_alpha=5.0,\n",
    ")\n",
    "\n",
    "# define the parameter grid\n",
    "param_grid = {\n",
    "    'n_estimators': [300, 500],\n",
    "    'max_depth': [4, 6, 8],\n",
    "    'learning_rate': [0.05, 0.1],\n",
    "    'subsample': [0.7, 0.9]\n",
    "}\n",
    "\n",
    "# define the grid search\n",
    "grid_search = GridSearchCV(\n",
    "    estimator=xgb_regressor_with_bert,\n",
    "    param_grid=param_grid,\n",
    "    cv=5,  # 5 folds cross-validation\n",
    "    scoring='neg_root_mean_squared_error',\n",
    "    verbose=2,\n",
    "    n_jobs=-1  # use all available cores\n",
    ")\n",
    "\n",
    "# execute the grid search\n",
    "grid_search.fit(X_train, train_targets)\n",
    "\n",
    "# output the best parameters and score\n",
    "print(\"best parameters:\", grid_search.best_params_)\n",
    "print(\"best score(neg MSE):\", grid_search.best_score_)\n",
    "# best parameters: {'learning_rate': 0.05, 'max_depth': 6, 'n_estimators': 500, 'subsample': 0.9}\n",
    "# best score(neg MSE): -0.41994513168325326"
   ]
  },
  {
   "cell_type": "markdown",
   "metadata": {},
   "source": [
    "## Training"
   ]
  },
  {
   "cell_type": "code",
   "execution_count": null,
   "metadata": {},
   "outputs": [],
   "source": [
    "'''\n",
    "This class is used to record the RMSE (Root Mean Square Error) during the training process of an XGBoost model.\n",
    "It inherits from the TrainingCallback class of XGBoost.\n",
    "The class has two attributes:\n",
    "- train_rmse: A list to store the RMSE values for the training set.\n",
    "- val_rmse: A list to store the RMSE values for the validation set.\n",
    "The class has one method:\n",
    "- after_iteration: This method is called after each iteration of the training process.\n",
    "  It checks if the RMSE values for the training and validation sets are present in the evals_log dictionary,\n",
    "  and if so, appends them to the respective lists. The method returns False to indicate that training should continue.\n",
    "'''\n",
    "\n",
    "class RMSERecorder(TrainingCallback):\n",
    "    def __init__(self):\n",
    "        self.train_rmse = []\n",
    "        self.val_rmse = []\n",
    "\n",
    "    def after_iteration(self, model, epoch, evals_log):\n",
    "        if 'validation_0' in evals_log and 'rmse' in evals_log['validation_0']:\n",
    "            self.train_rmse.append(evals_log['validation_0']['rmse'][-1])\n",
    "        if 'validation_1' in evals_log and 'rmse' in evals_log['validation_1']:\n",
    "            self.val_rmse.append(evals_log['validation_1']['rmse'][-1])\n",
    "        return False  # 继续训练\n"
   ]
  },
  {
   "cell_type": "code",
   "execution_count": null,
   "metadata": {
    "_cell_guid": "e8eed661-287a-4a51-b34b-40cd96c608c4",
    "_uuid": "80123424-811a-480c-9bca-f65edebcd4bd",
    "collapsed": false,
    "execution": {
     "iopub.execute_input": "2025-05-15T23:16:38.030137Z",
     "iopub.status.busy": "2025-05-15T23:16:38.029458Z",
     "iopub.status.idle": "2025-05-15T23:17:01.619509Z",
     "shell.execute_reply": "2025-05-15T23:17:01.618663Z",
     "shell.execute_reply.started": "2025-05-15T23:16:38.030077Z"
    },
    "jupyter": {
     "outputs_hidden": false
    },
    "trusted": true
   },
   "outputs": [],
   "source": [
    "\n",
    "recorder = RMSERecorder()\n",
    "\n",
    "# define the model: XGBoost regressor with BERT embeddings\n",
    "xgb_regressor_with_bert = xgboost.XGBRegressor(\n",
    "    objective='reg:squarederror',\n",
    "    n_estimators=1500,\n",
    "    learning_rate=0.05,\n",
    "    max_depth=4,\n",
    "    subsample=0.7,\n",
    "    reg_alpha=5.0,\n",
    "    reg_lambda=5.0,\n",
    "    tree_method='hist',\n",
    "    device='cuda',\n",
    "    random_state=42\n",
    ")\n",
    "\n",
    "# Train and record RMSE\n",
    "xgb_regressor_with_bert.fit(\n",
    "    X_train, train_targets,\n",
    "    eval_set=[(X_train, train_targets), (X_val, val_targets)],\n",
    "    eval_metric='rmse',\n",
    "    callbacks=[recorder],\n",
    "    verbose=False,\n",
    "    early_stopping_rounds=30\n",
    ")\n",
    "\n",
    "# Visualize the RMSE training curves\n",
    "plt.figure(figsize=(8,5))\n",
    "plt.plot(recorder.train_rmse, label='Train RMSE')\n",
    "plt.plot(recorder.val_rmse, label='Validation RMSE')\n",
    "plt.xlabel(\"Boosting Round\")\n",
    "plt.ylabel(\"RMSE\")\n",
    "plt.title(\"Train vs Validation RMSE Curve (Bert Features)\")\n",
    "plt.legend()\n",
    "plt.grid(True)\n",
    "plt.tight_layout()\n",
    "plt.show()"
   ]
  },
  {
   "cell_type": "code",
   "execution_count": null,
   "metadata": {
    "_cell_guid": "01b298ed-011e-489d-8bb1-6a28a0296309",
    "_uuid": "f022fe94-0d30-4f1d-9ff7-7e8dbe858fa9",
    "collapsed": false,
    "execution": {
     "iopub.execute_input": "2025-05-15T23:17:08.417877Z",
     "iopub.status.busy": "2025-05-15T23:17:08.417191Z",
     "iopub.status.idle": "2025-05-15T23:17:08.422838Z",
     "shell.execute_reply": "2025-05-15T23:17:08.421855Z",
     "shell.execute_reply.started": "2025-05-15T23:17:08.417852Z"
    },
    "jupyter": {
     "outputs_hidden": false
    },
    "trusted": true
   },
   "outputs": [],
   "source": [
    "best_iter = xgb_regressor_with_bert.best_iteration\n",
    "print(f\"Best iter at: {best_iter}\")"
   ]
  },
  {
   "cell_type": "markdown",
   "metadata": {},
   "source": [
    "## Validation"
   ]
  },
  {
   "cell_type": "code",
   "execution_count": null,
   "metadata": {
    "_cell_guid": "5c18f963-f3ad-4d96-814f-52f70cd1d014",
    "_uuid": "0b586aaa-a405-4c7c-840a-2cf5e743c031",
    "collapsed": false,
    "execution": {
     "iopub.execute_input": "2025-05-15T21:28:15.275730Z",
     "iopub.status.busy": "2025-05-15T21:28:15.275019Z",
     "iopub.status.idle": "2025-05-15T21:28:15.776349Z",
     "shell.execute_reply": "2025-05-15T21:28:15.775479Z",
     "shell.execute_reply.started": "2025-05-15T21:28:15.275700Z"
    },
    "jupyter": {
     "outputs_hidden": false
    },
    "trusted": true
   },
   "outputs": [],
   "source": [
    "val_data = pd.read_csv(\"..input/jigsaw-toxic-severity-rating/validation_data.csv\")\n",
    "val_data.head()"
   ]
  },
  {
   "cell_type": "code",
   "execution_count": null,
   "metadata": {
    "_cell_guid": "765ab3c9-08d6-4264-886b-1a2cf8b0b151",
    "_uuid": "5e6aa65b-8d65-4693-9da2-5358cc1c4181",
    "collapsed": false,
    "execution": {
     "iopub.execute_input": "2025-05-15T21:28:21.893351Z",
     "iopub.status.busy": "2025-05-15T21:28:21.892632Z",
     "iopub.status.idle": "2025-05-15T21:28:34.095911Z",
     "shell.execute_reply": "2025-05-15T21:28:34.095270Z",
     "shell.execute_reply.started": "2025-05-15T21:28:21.893321Z"
    },
    "jupyter": {
     "outputs_hidden": false
    },
    "trusted": true
   },
   "outputs": [],
   "source": [
    "val_data['less_toxic'] = val_data['less_toxic'].apply(text_cleaning)\n",
    "val_data['more_toxic'] = val_data['more_toxic'].apply(text_cleaning)"
   ]
  },
  {
   "cell_type": "code",
   "execution_count": null,
   "metadata": {
    "_cell_guid": "fac23a6e-021f-4620-9fd9-63aac2625be3",
    "_uuid": "629ac14b-976e-470d-9fa8-fe49b3b508eb",
    "collapsed": false,
    "execution": {
     "iopub.execute_input": "2025-05-15T22:33:25.170163Z",
     "iopub.status.busy": "2025-05-15T22:33:25.169791Z",
     "iopub.status.idle": "2025-05-15T22:37:04.958853Z",
     "shell.execute_reply": "2025-05-15T22:37:04.957610Z",
     "shell.execute_reply.started": "2025-05-15T22:33:25.170127Z"
    },
    "jupyter": {
     "outputs_hidden": false
    },
    "trusted": true
   },
   "outputs": [],
   "source": [
    "X_less = get_cls_embeddings(val_data['less_toxic'].tolist())\n",
    "X_more = get_cls_embeddings(val_data['more_toxic'].tolist())\n",
    "\n",
    "p_less = xgb_regressor_with_bert.predict(X_less)\n",
    "p_more = xgb_regressor_with_bert.predict(X_more)"
   ]
  },
  {
   "cell_type": "code",
   "execution_count": null,
   "metadata": {
    "_cell_guid": "3cd93f74-77b1-47bb-a99d-70ba801c8017",
    "_uuid": "aef2e88e-6abf-4ab4-91c3-8ff1967d319d",
    "collapsed": false,
    "execution": {
     "iopub.execute_input": "2025-05-15T22:39:29.735093Z",
     "iopub.status.busy": "2025-05-15T22:39:29.734450Z",
     "iopub.status.idle": "2025-05-15T22:39:29.739782Z",
     "shell.execute_reply": "2025-05-15T22:39:29.738871Z",
     "shell.execute_reply.started": "2025-05-15T22:39:29.735063Z"
    },
    "jupyter": {
     "outputs_hidden": false
    },
    "trusted": true
   },
   "outputs": [],
   "source": [
    "accuracy = (p_more > p_less).mean()\n",
    "print(f\"BERT + XGBoost Pairwise Accuracy: {accuracy:.4f}\")"
   ]
  },
  {
   "cell_type": "markdown",
   "metadata": {
    "_cell_guid": "44a5a433-a94d-4056-9818-ec16f52d2f51",
    "_uuid": "17209cae-a587-41cb-ba62-5c45911856ce",
    "collapsed": false,
    "jupyter": {
     "outputs_hidden": false
    },
    "trusted": true
   },
   "source": [
    "# TF-IDF (sparse, bag-of-words model)"
   ]
  },
  {
   "cell_type": "markdown",
   "metadata": {},
   "source": [
    "Now we will use TF-IDF features"
   ]
  },
  {
   "cell_type": "code",
   "execution_count": null,
   "metadata": {
    "_cell_guid": "6f9d98fd-3f40-4b30-b406-4f7f78004ae3",
    "_uuid": "dcd6c78e-a406-4bd9-8c35-57c63fc26acf",
    "collapsed": false,
    "execution": {
     "iopub.execute_input": "2025-05-15T23:19:26.559794Z",
     "iopub.status.busy": "2025-05-15T23:19:26.559453Z",
     "iopub.status.idle": "2025-05-15T23:19:34.430212Z",
     "shell.execute_reply": "2025-05-15T23:19:34.429395Z",
     "shell.execute_reply.started": "2025-05-15T23:19:26.559768Z"
    },
    "jupyter": {
     "outputs_hidden": false
    },
    "papermill": {
     "duration": 2.490179,
     "end_time": "2022-02-08T08:53:54.901419",
     "exception": false,
     "start_time": "2022-02-08T08:53:52.41124",
     "status": "completed"
    },
    "tags": [],
    "trusted": true
   },
   "outputs": [],
   "source": [
    "# define TF-IDF vectorizer\n",
    "vec = TfidfVectorizer(sublinear_tf=True, min_df= 3, max_df=0.5, max_features=50000)\n",
    "# fit and transform the training data\n",
    "X_train_tfidf = vec.fit_transform(train_texts)\n",
    "# transform the validation data\n",
    "X_val_tfidf = vec.transform(val_texts)"
   ]
  },
  {
   "cell_type": "markdown",
   "metadata": {},
   "source": [
    "## Training"
   ]
  },
  {
   "cell_type": "code",
   "execution_count": null,
   "metadata": {
    "_cell_guid": "bf7b25e7-6e3d-475b-bc6f-dee04bbd1819",
    "_uuid": "44b3b2ac-7bd4-42fc-8b75-e534c7c7e641",
    "collapsed": false,
    "execution": {
     "iopub.execute_input": "2025-05-15T23:20:06.813609Z",
     "iopub.status.busy": "2025-05-15T23:20:06.813025Z",
     "iopub.status.idle": "2025-05-15T23:20:08.645605Z",
     "shell.execute_reply": "2025-05-15T23:20:08.644813Z",
     "shell.execute_reply.started": "2025-05-15T23:20:06.813578Z"
    },
    "jupyter": {
     "outputs_hidden": false
    },
    "papermill": {
     "duration": 285.180294,
     "end_time": "2022-02-08T08:58:40.965849",
     "exception": false,
     "start_time": "2022-02-08T08:53:55.785555",
     "status": "completed"
    },
    "tags": [],
    "trusted": true
   },
   "outputs": [],
   "source": [
    "\n",
    "recorder = RMSERecorder()\n",
    "\n",
    "# define the model: XGBoost regressor with TF-IDF features\n",
    "xgb_regressor_with_tf_idf = xgboost.XGBRegressor(\n",
    "    objective='reg:squarederror',\n",
    "    n_estimators=1500,\n",
    "    learning_rate=0.05,\n",
    "    max_depth=4,\n",
    "    subsample=0.7,\n",
    "    reg_alpha=5.0,\n",
    "    reg_lambda=5.0,\n",
    "    tree_method='hist',\n",
    "    device='cuda',\n",
    "    random_state=42\n",
    ")\n",
    "\n",
    "# Train and Record RMSE\n",
    "xgb_regressor_with_tf_idf.fit(\n",
    "    X_train_tfidf, train_targets,\n",
    "    eval_set=[(X_train_tfidf, train_targets), (X_val_tfidf, val_targets)],\n",
    "    eval_metric='rmse',\n",
    "    callbacks=[recorder],\n",
    "    verbose=False,\n",
    "    early_stopping_rounds=30\n",
    ")\n",
    "\n",
    "# visualize the RMSE training curves\n",
    "plt.figure(figsize=(8,5))\n",
    "plt.plot(recorder.train_rmse, label='Train RMSE')\n",
    "plt.plot(recorder.val_rmse, label='Validation RMSE')\n",
    "plt.xlabel(\"Boosting Round\")\n",
    "plt.ylabel(\"RMSE\")\n",
    "plt.title(\"Train vs Validation RMSE Curve (IF-TDF features)\")\n",
    "plt.legend()\n",
    "plt.grid(True)\n",
    "plt.tight_layout()\n",
    "plt.show()"
   ]
  },
  {
   "cell_type": "code",
   "execution_count": null,
   "metadata": {
    "_cell_guid": "2c31e74c-c334-4cfc-a8e4-49667ee2e530",
    "_uuid": "3524d0a3-cc55-4cf4-8c41-44259520fa11",
    "collapsed": false,
    "execution": {
     "iopub.execute_input": "2025-05-15T23:20:40.077488Z",
     "iopub.status.busy": "2025-05-15T23:20:40.077083Z",
     "iopub.status.idle": "2025-05-15T23:20:40.083003Z",
     "shell.execute_reply": "2025-05-15T23:20:40.081897Z",
     "shell.execute_reply.started": "2025-05-15T23:20:40.077461Z"
    },
    "jupyter": {
     "outputs_hidden": false
    },
    "trusted": true
   },
   "outputs": [],
   "source": [
    "best_iter = xgb_regressor_with_tf_idf.best_iteration\n",
    "print(f\"Best iter at: {best_iter}\")"
   ]
  },
  {
   "cell_type": "markdown",
   "metadata": {},
   "source": [
    "## Validation"
   ]
  },
  {
   "cell_type": "code",
   "execution_count": null,
   "metadata": {
    "_cell_guid": "9b230499-086c-4395-839b-0311282d62a7",
    "_uuid": "a417f2fa-40c8-4a47-bd85-a23da284ca33",
    "collapsed": false,
    "execution": {
     "iopub.execute_input": "2025-05-15T23:22:39.816673Z",
     "iopub.status.busy": "2025-05-15T23:22:39.815955Z",
     "iopub.status.idle": "2025-05-15T23:22:42.772612Z",
     "shell.execute_reply": "2025-05-15T23:22:42.771854Z",
     "shell.execute_reply.started": "2025-05-15T23:22:39.816642Z"
    },
    "jupyter": {
     "outputs_hidden": false
    },
    "papermill": {
     "duration": 3.28765,
     "end_time": "2022-02-08T08:59:02.992787",
     "exception": false,
     "start_time": "2022-02-08T08:58:59.705137",
     "status": "completed"
    },
    "tags": [],
    "trusted": true
   },
   "outputs": [],
   "source": [
    "X_less_toxic = vec.transform(val_data['less_toxic'])\n",
    "X_more_toxic = vec.transform(val_data['more_toxic'])"
   ]
  },
  {
   "cell_type": "code",
   "execution_count": null,
   "metadata": {
    "_cell_guid": "6766a5c0-0d6d-4a20-ab4e-6e0816b24ff2",
    "_uuid": "a58d4964-c949-4852-81e2-df576743c9fd",
    "collapsed": false,
    "execution": {
     "iopub.execute_input": "2025-05-15T23:22:44.806976Z",
     "iopub.status.busy": "2025-05-15T23:22:44.806303Z",
     "iopub.status.idle": "2025-05-15T23:22:44.857573Z",
     "shell.execute_reply": "2025-05-15T23:22:44.856819Z",
     "shell.execute_reply.started": "2025-05-15T23:22:44.806949Z"
    },
    "jupyter": {
     "outputs_hidden": false
    },
    "papermill": {
     "duration": 1.776136,
     "end_time": "2022-02-08T08:59:04.798514",
     "exception": false,
     "start_time": "2022-02-08T08:59:03.022378",
     "status": "completed"
    },
    "tags": [],
    "trusted": true
   },
   "outputs": [],
   "source": [
    "p_less = xgb_regressor_with_tf_idf.predict(X_less_toxic)\n",
    "p_more = xgb_regressor_with_tf_idf.predict(X_more_toxic)"
   ]
  },
  {
   "cell_type": "code",
   "execution_count": null,
   "metadata": {
    "_cell_guid": "9e228675-9f65-4563-a108-5c1820f70692",
    "_uuid": "3a6bf176-7745-43a3-811e-9398599fbee4",
    "collapsed": false,
    "execution": {
     "iopub.execute_input": "2025-05-15T23:22:47.196442Z",
     "iopub.status.busy": "2025-05-15T23:22:47.195661Z",
     "iopub.status.idle": "2025-05-15T23:22:47.201330Z",
     "shell.execute_reply": "2025-05-15T23:22:47.200334Z",
     "shell.execute_reply.started": "2025-05-15T23:22:47.196415Z"
    },
    "jupyter": {
     "outputs_hidden": false
    },
    "trusted": true
   },
   "outputs": [],
   "source": [
    "# Proportion of models correct: predicted more toxic scores > less toxic scores\n",
    "accuracy = (p_more > p_less).mean()\n",
    "print(f\"Pairwise Accuracy: {accuracy:.4f}\")"
   ]
  },
  {
   "cell_type": "markdown",
   "metadata": {
    "_cell_guid": "beedfd39-de56-4525-87ec-3a1ff62a0d65",
    "_uuid": "878490c4-d90e-4109-ae8a-d749b7158f5f",
    "collapsed": false,
    "jupyter": {
     "outputs_hidden": false
    },
    "trusted": true
   },
   "source": [
    "# Test and submission"
   ]
  },
  {
   "cell_type": "code",
   "execution_count": null,
   "metadata": {
    "_cell_guid": "77ee6118-c447-4336-996c-4501436289e3",
    "_uuid": "135ed191-c795-4fe3-bd86-b1c214afc8f4",
    "collapsed": false,
    "execution": {
     "iopub.execute_input": "2025-05-14T23:33:44.119694Z",
     "iopub.status.busy": "2025-05-14T23:33:44.118881Z",
     "iopub.status.idle": "2025-05-14T23:33:45.721247Z",
     "shell.execute_reply": "2025-05-14T23:33:45.720360Z",
     "shell.execute_reply.started": "2025-05-14T23:33:44.119665Z"
    },
    "jupyter": {
     "outputs_hidden": false
    },
    "papermill": {
     "duration": 2.451553,
     "end_time": "2022-02-08T08:59:07.281389",
     "exception": false,
     "start_time": "2022-02-08T08:59:04.829836",
     "status": "completed"
    },
    "tags": [],
    "trusted": true
   },
   "outputs": [],
   "source": [
    "comm_score['text'] = comm_score['text'].apply(text_cleaning)"
   ]
  },
  {
   "cell_type": "code",
   "execution_count": null,
   "metadata": {
    "_cell_guid": "5e225b6c-13d4-4a8d-a19d-fca55dfa8358",
    "_uuid": "92fac8fd-035e-4385-9f63-8909ce4eb860",
    "collapsed": false,
    "execution": {
     "iopub.execute_input": "2025-05-15T21:42:32.280064Z",
     "iopub.status.busy": "2025-05-15T21:42:32.279457Z",
     "iopub.status.idle": "2025-05-15T21:42:32.679010Z",
     "shell.execute_reply": "2025-05-15T21:42:32.678291Z",
     "shell.execute_reply.started": "2025-05-15T21:42:32.280021Z"
    },
    "jupyter": {
     "outputs_hidden": false
    },
    "papermill": {
     "duration": 0.675108,
     "end_time": "2022-02-08T08:59:07.986777",
     "exception": false,
     "start_time": "2022-02-08T08:59:07.311669",
     "status": "completed"
    },
    "tags": [],
    "trusted": true
   },
   "outputs": [],
   "source": [
    "# X_test = vec.transform(comm_score['text'].tolist())\n",
    "\n",
    "# p_test = xgb_regressor_with_tf_idf.predict(X_test)"
   ]
  },
  {
   "cell_type": "code",
   "execution_count": null,
   "metadata": {
    "_cell_guid": "725a206a-183e-4a17-9fa9-b2fc6fff376e",
    "_uuid": "8dc24c86-7ad2-4b28-b6b5-15c24072e5b5",
    "collapsed": false,
    "jupyter": {
     "outputs_hidden": false
    },
    "trusted": true
   },
   "outputs": [],
   "source": [
    "X_test = get_cls_embeddings(comm_score['text'].tolist())\n",
    "\n",
    "p_test = xgb_regressor_with_bert.predict(X_test)"
   ]
  },
  {
   "cell_type": "code",
   "execution_count": null,
   "metadata": {
    "_cell_guid": "a9556c02-e829-4251-936c-174a4f61b404",
    "_uuid": "2fe80f07-ea43-4f13-8046-2a91da5bfd85",
    "collapsed": false,
    "execution": {
     "iopub.execute_input": "2025-05-15T21:42:34.987976Z",
     "iopub.status.busy": "2025-05-15T21:42:34.987166Z",
     "iopub.status.idle": "2025-05-15T21:42:34.992787Z",
     "shell.execute_reply": "2025-05-15T21:42:34.991770Z",
     "shell.execute_reply.started": "2025-05-15T21:42:34.987945Z"
    },
    "jupyter": {
     "outputs_hidden": false
    },
    "papermill": {
     "duration": 0.037752,
     "end_time": "2022-02-08T08:59:08.05461",
     "exception": false,
     "start_time": "2022-02-08T08:59:08.016858",
     "status": "completed"
    },
    "tags": [],
    "trusted": true
   },
   "outputs": [],
   "source": [
    "comm_score['score'] = p_test"
   ]
  },
  {
   "cell_type": "code",
   "execution_count": null,
   "metadata": {
    "_cell_guid": "e2ddfd54-964f-4876-92ec-b46e7fb94806",
    "_uuid": "1cac1209-090b-4a2c-bdf0-3a739f69dc3c",
    "collapsed": false,
    "execution": {
     "iopub.execute_input": "2025-05-15T21:42:36.694839Z",
     "iopub.status.busy": "2025-05-15T21:42:36.694506Z",
     "iopub.status.idle": "2025-05-15T21:42:36.701587Z",
     "shell.execute_reply": "2025-05-15T21:42:36.700622Z",
     "shell.execute_reply.started": "2025-05-15T21:42:36.694813Z"
    },
    "jupyter": {
     "outputs_hidden": false
    },
    "papermill": {
     "duration": 0.036652,
     "end_time": "2022-02-08T08:59:08.122247",
     "exception": false,
     "start_time": "2022-02-08T08:59:08.085595",
     "status": "completed"
    },
    "tags": [],
    "trusted": true
   },
   "outputs": [],
   "source": [
    "comm_score['score'].count()"
   ]
  },
  {
   "cell_type": "code",
   "execution_count": null,
   "metadata": {
    "_cell_guid": "94be50f9-5c04-49f8-9f37-21ae2099b67e",
    "_uuid": "db02c020-bf6c-4f5a-ae2d-36e3f9f6cfda",
    "collapsed": false,
    "execution": {
     "iopub.execute_input": "2025-05-15T21:42:48.243416Z",
     "iopub.status.busy": "2025-05-15T21:42:48.243040Z",
     "iopub.status.idle": "2025-05-15T21:42:48.265905Z",
     "shell.execute_reply": "2025-05-15T21:42:48.265288Z",
     "shell.execute_reply.started": "2025-05-15T21:42:48.243389Z"
    },
    "jupyter": {
     "outputs_hidden": false
    },
    "papermill": {
     "duration": 0.053997,
     "end_time": "2022-02-08T08:59:08.204428",
     "exception": false,
     "start_time": "2022-02-08T08:59:08.150431",
     "status": "completed"
    },
    "tags": [],
    "trusted": true
   },
   "outputs": [],
   "source": [
    "comm_score[['comment_id', 'score']].to_csv(\"submission.csv\", index=False)"
   ]
  },
  {
   "cell_type": "code",
   "execution_count": null,
   "metadata": {
    "_cell_guid": "adf0deb0-3370-4e27-8723-9c977ae8d476",
    "_uuid": "b6766b5c-c577-4254-bb1f-790d5927a7b9",
    "collapsed": false,
    "execution": {
     "iopub.execute_input": "2025-05-15T21:42:40.512765Z",
     "iopub.status.busy": "2025-05-15T21:42:40.511774Z",
     "iopub.status.idle": "2025-05-15T21:42:40.522338Z",
     "shell.execute_reply": "2025-05-15T21:42:40.521407Z",
     "shell.execute_reply.started": "2025-05-15T21:42:40.512726Z"
    },
    "jupyter": {
     "outputs_hidden": false
    },
    "papermill": {
     "duration": 0.039974,
     "end_time": "2022-02-08T08:59:08.273082",
     "exception": false,
     "start_time": "2022-02-08T08:59:08.233108",
     "status": "completed"
    },
    "tags": [],
    "trusted": true
   },
   "outputs": [],
   "source": [
    "comm_score.head()"
   ]
  }
 ],
 "metadata": {
  "kaggle": {
   "accelerator": "gpu",
   "dataSources": [
    {
     "databundleVersionId": 3445671,
     "isSourceIdPinned": false,
     "sourceId": 27935,
     "sourceType": "competition"
    },
    {
     "datasetId": 575905,
     "sourceId": 2795202,
     "sourceType": "datasetVersion"
    },
    {
     "datasetId": 1709138,
     "sourceId": 2798066,
     "sourceType": "datasetVersion"
    },
    {
     "sourceId": 79155797,
     "sourceType": "kernelVersion"
    },
    {
     "isSourceIdPinned": false,
     "modelId": 343738,
     "modelInstanceId": 323040,
     "sourceId": 392342,
     "sourceType": "modelInstanceVersion"
    }
   ],
   "dockerImageVersionId": 30673,
   "isGpuEnabled": true,
   "isInternetEnabled": false,
   "language": "python",
   "sourceType": "notebook"
  },
  "kernelspec": {
   "display_name": "Python 3",
   "language": "python",
   "name": "python3"
  },
  "language_info": {
   "codemirror_mode": {
    "name": "ipython",
    "version": 3
   },
   "file_extension": ".py",
   "mimetype": "text/x-python",
   "name": "python",
   "nbconvert_exporter": "python",
   "pygments_lexer": "ipython3",
   "version": "3.10.13"
  },
  "papermill": {
   "default_parameters": {},
   "duration": 379.358569,
   "end_time": "2022-02-08T08:59:09.17505",
   "environment_variables": {},
   "exception": null,
   "input_path": "__notebook__.ipynb",
   "output_path": "__notebook__.ipynb",
   "parameters": {},
   "start_time": "2022-02-08T08:52:49.816481",
   "version": "2.3.3"
  },
  "widgets": {
   "application/vnd.jupyter.widget-state+json": {
    "state": {
     "0f5ff39975514468a66209ec440d3a05": {
      "model_module": "@jupyter-widgets/controls",
      "model_module_version": "1.5.0",
      "model_name": "HBoxModel",
      "state": {
       "_dom_classes": [],
       "_model_module": "@jupyter-widgets/controls",
       "_model_module_version": "1.5.0",
       "_model_name": "HBoxModel",
       "_view_count": null,
       "_view_module": "@jupyter-widgets/controls",
       "_view_module_version": "1.5.0",
       "_view_name": "HBoxView",
       "box_style": "",
       "children": [
        "IPY_MODEL_192cbb11bf934a98ba4f4af22ba558db",
        "IPY_MODEL_4dc6ffa9538e4fbd9e3bb3b3605d64de",
        "IPY_MODEL_ab37820ac69e48a789001769e8272b29"
       ],
       "layout": "IPY_MODEL_be945b3cf259447fb21c9c2e2f1e29e4"
      }
     },
     "11189e12ae304ff994140c6f7b783176": {
      "model_module": "@jupyter-widgets/controls",
      "model_module_version": "1.5.0",
      "model_name": "ProgressStyleModel",
      "state": {
       "_model_module": "@jupyter-widgets/controls",
       "_model_module_version": "1.5.0",
       "_model_name": "ProgressStyleModel",
       "_view_count": null,
       "_view_module": "@jupyter-widgets/base",
       "_view_module_version": "1.2.0",
       "_view_name": "StyleView",
       "bar_color": null,
       "description_width": ""
      }
     },
     "192cbb11bf934a98ba4f4af22ba558db": {
      "model_module": "@jupyter-widgets/controls",
      "model_module_version": "1.5.0",
      "model_name": "HTMLModel",
      "state": {
       "_dom_classes": [],
       "_model_module": "@jupyter-widgets/controls",
       "_model_module_version": "1.5.0",
       "_model_name": "HTMLModel",
       "_view_count": null,
       "_view_module": "@jupyter-widgets/controls",
       "_view_module_version": "1.5.0",
       "_view_name": "HTMLView",
       "description": "",
       "description_tooltip": null,
       "layout": "IPY_MODEL_63a7556558b044d8a9d0c027915c9286",
       "placeholder": "​",
       "style": "IPY_MODEL_3dc16d8acb5b44e6858804c75dec9f55",
       "value": "100%"
      }
     },
     "197d99c11b96422498ce3c3ac4cbf7b5": {
      "model_module": "@jupyter-widgets/controls",
      "model_module_version": "1.5.0",
      "model_name": "DescriptionStyleModel",
      "state": {
       "_model_module": "@jupyter-widgets/controls",
       "_model_module_version": "1.5.0",
       "_model_name": "DescriptionStyleModel",
       "_view_count": null,
       "_view_module": "@jupyter-widgets/base",
       "_view_module_version": "1.2.0",
       "_view_name": "StyleView",
       "description_width": ""
      }
     },
     "209becfda0394440a2da257a9aef7e29": {
      "model_module": "@jupyter-widgets/controls",
      "model_module_version": "1.5.0",
      "model_name": "HTMLModel",
      "state": {
       "_dom_classes": [],
       "_model_module": "@jupyter-widgets/controls",
       "_model_module_version": "1.5.0",
       "_model_name": "HTMLModel",
       "_view_count": null,
       "_view_module": "@jupyter-widgets/controls",
       "_view_module_version": "1.5.0",
       "_view_name": "HTMLView",
       "description": "",
       "description_tooltip": null,
       "layout": "IPY_MODEL_b1a6095981204df29a0f274b133f44be",
       "placeholder": "​",
       "style": "IPY_MODEL_c3bced117818491599d0402f8155cee5",
       "value": "100%"
      }
     },
     "2c398dbf93ba4c28a996c5681c6a416b": {
      "model_module": "@jupyter-widgets/base",
      "model_module_version": "1.2.0",
      "model_name": "LayoutModel",
      "state": {
       "_model_module": "@jupyter-widgets/base",
       "_model_module_version": "1.2.0",
       "_model_name": "LayoutModel",
       "_view_count": null,
       "_view_module": "@jupyter-widgets/base",
       "_view_module_version": "1.2.0",
       "_view_name": "LayoutView",
       "align_content": null,
       "align_items": null,
       "align_self": null,
       "border": null,
       "bottom": null,
       "display": null,
       "flex": null,
       "flex_flow": null,
       "grid_area": null,
       "grid_auto_columns": null,
       "grid_auto_flow": null,
       "grid_auto_rows": null,
       "grid_column": null,
       "grid_gap": null,
       "grid_row": null,
       "grid_template_areas": null,
       "grid_template_columns": null,
       "grid_template_rows": null,
       "height": null,
       "justify_content": null,
       "justify_items": null,
       "left": null,
       "margin": null,
       "max_height": null,
       "max_width": null,
       "min_height": null,
       "min_width": null,
       "object_fit": null,
       "object_position": null,
       "order": null,
       "overflow": null,
       "overflow_x": null,
       "overflow_y": null,
       "padding": null,
       "right": null,
       "top": null,
       "visibility": null,
       "width": null
      }
     },
     "2c9af87edb6249de87f01357c9eb738d": {
      "model_module": "@jupyter-widgets/controls",
      "model_module_version": "1.5.0",
      "model_name": "DescriptionStyleModel",
      "state": {
       "_model_module": "@jupyter-widgets/controls",
       "_model_module_version": "1.5.0",
       "_model_name": "DescriptionStyleModel",
       "_view_count": null,
       "_view_module": "@jupyter-widgets/base",
       "_view_module_version": "1.2.0",
       "_view_name": "StyleView",
       "description_width": ""
      }
     },
     "302377e149034e9ab0bed7a65c5efadc": {
      "model_module": "@jupyter-widgets/base",
      "model_module_version": "1.2.0",
      "model_name": "LayoutModel",
      "state": {
       "_model_module": "@jupyter-widgets/base",
       "_model_module_version": "1.2.0",
       "_model_name": "LayoutModel",
       "_view_count": null,
       "_view_module": "@jupyter-widgets/base",
       "_view_module_version": "1.2.0",
       "_view_name": "LayoutView",
       "align_content": null,
       "align_items": null,
       "align_self": null,
       "border": null,
       "bottom": null,
       "display": null,
       "flex": null,
       "flex_flow": null,
       "grid_area": null,
       "grid_auto_columns": null,
       "grid_auto_flow": null,
       "grid_auto_rows": null,
       "grid_column": null,
       "grid_gap": null,
       "grid_row": null,
       "grid_template_areas": null,
       "grid_template_columns": null,
       "grid_template_rows": null,
       "height": null,
       "justify_content": null,
       "justify_items": null,
       "left": null,
       "margin": null,
       "max_height": null,
       "max_width": null,
       "min_height": null,
       "min_width": null,
       "object_fit": null,
       "object_position": null,
       "order": null,
       "overflow": null,
       "overflow_x": null,
       "overflow_y": null,
       "padding": null,
       "right": null,
       "top": null,
       "visibility": null,
       "width": null
      }
     },
     "3d38375e2c57492bba88dbc35bc9ceec": {
      "model_module": "@jupyter-widgets/controls",
      "model_module_version": "1.5.0",
      "model_name": "HTMLModel",
      "state": {
       "_dom_classes": [],
       "_model_module": "@jupyter-widgets/controls",
       "_model_module_version": "1.5.0",
       "_model_name": "HTMLModel",
       "_view_count": null,
       "_view_module": "@jupyter-widgets/controls",
       "_view_module_version": "1.5.0",
       "_view_name": "HTMLView",
       "description": "",
       "description_tooltip": null,
       "layout": "IPY_MODEL_c995195fdcc54ad5bb0491f8b04d942d",
       "placeholder": "​",
       "style": "IPY_MODEL_197d99c11b96422498ce3c3ac4cbf7b5",
       "value": " 30108/30108 [00:08&lt;00:00, 3472.32it/s]"
      }
     },
     "3dc16d8acb5b44e6858804c75dec9f55": {
      "model_module": "@jupyter-widgets/controls",
      "model_module_version": "1.5.0",
      "model_name": "DescriptionStyleModel",
      "state": {
       "_model_module": "@jupyter-widgets/controls",
       "_model_module_version": "1.5.0",
       "_model_name": "DescriptionStyleModel",
       "_view_count": null,
       "_view_module": "@jupyter-widgets/base",
       "_view_module_version": "1.2.0",
       "_view_name": "StyleView",
       "description_width": ""
      }
     },
     "40a5097844ae4aca8673a9aca9fd7f20": {
      "model_module": "@jupyter-widgets/base",
      "model_module_version": "1.2.0",
      "model_name": "LayoutModel",
      "state": {
       "_model_module": "@jupyter-widgets/base",
       "_model_module_version": "1.2.0",
       "_model_name": "LayoutModel",
       "_view_count": null,
       "_view_module": "@jupyter-widgets/base",
       "_view_module_version": "1.2.0",
       "_view_name": "LayoutView",
       "align_content": null,
       "align_items": null,
       "align_self": null,
       "border": null,
       "bottom": null,
       "display": null,
       "flex": null,
       "flex_flow": null,
       "grid_area": null,
       "grid_auto_columns": null,
       "grid_auto_flow": null,
       "grid_auto_rows": null,
       "grid_column": null,
       "grid_gap": null,
       "grid_row": null,
       "grid_template_areas": null,
       "grid_template_columns": null,
       "grid_template_rows": null,
       "height": null,
       "justify_content": null,
       "justify_items": null,
       "left": null,
       "margin": null,
       "max_height": null,
       "max_width": null,
       "min_height": null,
       "min_width": null,
       "object_fit": null,
       "object_position": null,
       "order": null,
       "overflow": null,
       "overflow_x": null,
       "overflow_y": null,
       "padding": null,
       "right": null,
       "top": null,
       "visibility": null,
       "width": null
      }
     },
     "40e855f07fa7459087d0379ea540ef72": {
      "model_module": "@jupyter-widgets/base",
      "model_module_version": "1.2.0",
      "model_name": "LayoutModel",
      "state": {
       "_model_module": "@jupyter-widgets/base",
       "_model_module_version": "1.2.0",
       "_model_name": "LayoutModel",
       "_view_count": null,
       "_view_module": "@jupyter-widgets/base",
       "_view_module_version": "1.2.0",
       "_view_name": "LayoutView",
       "align_content": null,
       "align_items": null,
       "align_self": null,
       "border": null,
       "bottom": null,
       "display": null,
       "flex": null,
       "flex_flow": null,
       "grid_area": null,
       "grid_auto_columns": null,
       "grid_auto_flow": null,
       "grid_auto_rows": null,
       "grid_column": null,
       "grid_gap": null,
       "grid_row": null,
       "grid_template_areas": null,
       "grid_template_columns": null,
       "grid_template_rows": null,
       "height": null,
       "justify_content": null,
       "justify_items": null,
       "left": null,
       "margin": null,
       "max_height": null,
       "max_width": null,
       "min_height": null,
       "min_width": null,
       "object_fit": null,
       "object_position": null,
       "order": null,
       "overflow": null,
       "overflow_x": null,
       "overflow_y": null,
       "padding": null,
       "right": null,
       "top": null,
       "visibility": null,
       "width": null
      }
     },
     "4bff0af55a174d359f299e1dd20ea583": {
      "model_module": "@jupyter-widgets/controls",
      "model_module_version": "1.5.0",
      "model_name": "DescriptionStyleModel",
      "state": {
       "_model_module": "@jupyter-widgets/controls",
       "_model_module_version": "1.5.0",
       "_model_name": "DescriptionStyleModel",
       "_view_count": null,
       "_view_module": "@jupyter-widgets/base",
       "_view_module_version": "1.2.0",
       "_view_name": "StyleView",
       "description_width": ""
      }
     },
     "4dc6ffa9538e4fbd9e3bb3b3605d64de": {
      "model_module": "@jupyter-widgets/controls",
      "model_module_version": "1.5.0",
      "model_name": "FloatProgressModel",
      "state": {
       "_dom_classes": [],
       "_model_module": "@jupyter-widgets/controls",
       "_model_module_version": "1.5.0",
       "_model_name": "FloatProgressModel",
       "_view_count": null,
       "_view_module": "@jupyter-widgets/controls",
       "_view_module_version": "1.5.0",
       "_view_name": "ProgressView",
       "bar_style": "success",
       "description": "",
       "description_tooltip": null,
       "layout": "IPY_MODEL_40a5097844ae4aca8673a9aca9fd7f20",
       "max": 159571,
       "min": 0,
       "orientation": "horizontal",
       "style": "IPY_MODEL_11189e12ae304ff994140c6f7b783176",
       "value": 159571
      }
     },
     "5292f2c09e7d48e78388ce21e60822ab": {
      "model_module": "@jupyter-widgets/controls",
      "model_module_version": "1.5.0",
      "model_name": "HTMLModel",
      "state": {
       "_dom_classes": [],
       "_model_module": "@jupyter-widgets/controls",
       "_model_module_version": "1.5.0",
       "_model_name": "HTMLModel",
       "_view_count": null,
       "_view_module": "@jupyter-widgets/controls",
       "_view_module_version": "1.5.0",
       "_view_name": "HTMLView",
       "description": "",
       "description_tooltip": null,
       "layout": "IPY_MODEL_be927b85e0334257bf9f14c7f7a28d92",
       "placeholder": "​",
       "style": "IPY_MODEL_bfc7ef349c564a8fa473d039c048879b",
       "value": " 30108/30108 [00:08&lt;00:00, 3507.69it/s]"
      }
     },
     "543537345dab4fa09414b742ec011e59": {
      "model_module": "@jupyter-widgets/controls",
      "model_module_version": "1.5.0",
      "model_name": "DescriptionStyleModel",
      "state": {
       "_model_module": "@jupyter-widgets/controls",
       "_model_module_version": "1.5.0",
       "_model_name": "DescriptionStyleModel",
       "_view_count": null,
       "_view_module": "@jupyter-widgets/base",
       "_view_module_version": "1.2.0",
       "_view_name": "StyleView",
       "description_width": ""
      }
     },
     "5782c03309e64ce5a18f8da67f5dc506": {
      "model_module": "@jupyter-widgets/base",
      "model_module_version": "1.2.0",
      "model_name": "LayoutModel",
      "state": {
       "_model_module": "@jupyter-widgets/base",
       "_model_module_version": "1.2.0",
       "_model_name": "LayoutModel",
       "_view_count": null,
       "_view_module": "@jupyter-widgets/base",
       "_view_module_version": "1.2.0",
       "_view_name": "LayoutView",
       "align_content": null,
       "align_items": null,
       "align_self": null,
       "border": null,
       "bottom": null,
       "display": null,
       "flex": null,
       "flex_flow": null,
       "grid_area": null,
       "grid_auto_columns": null,
       "grid_auto_flow": null,
       "grid_auto_rows": null,
       "grid_column": null,
       "grid_gap": null,
       "grid_row": null,
       "grid_template_areas": null,
       "grid_template_columns": null,
       "grid_template_rows": null,
       "height": null,
       "justify_content": null,
       "justify_items": null,
       "left": null,
       "margin": null,
       "max_height": null,
       "max_width": null,
       "min_height": null,
       "min_width": null,
       "object_fit": null,
       "object_position": null,
       "order": null,
       "overflow": null,
       "overflow_x": null,
       "overflow_y": null,
       "padding": null,
       "right": null,
       "top": null,
       "visibility": null,
       "width": null
      }
     },
     "5aadaf9f380d4eaba459cf863504023b": {
      "model_module": "@jupyter-widgets/base",
      "model_module_version": "1.2.0",
      "model_name": "LayoutModel",
      "state": {
       "_model_module": "@jupyter-widgets/base",
       "_model_module_version": "1.2.0",
       "_model_name": "LayoutModel",
       "_view_count": null,
       "_view_module": "@jupyter-widgets/base",
       "_view_module_version": "1.2.0",
       "_view_name": "LayoutView",
       "align_content": null,
       "align_items": null,
       "align_self": null,
       "border": null,
       "bottom": null,
       "display": null,
       "flex": null,
       "flex_flow": null,
       "grid_area": null,
       "grid_auto_columns": null,
       "grid_auto_flow": null,
       "grid_auto_rows": null,
       "grid_column": null,
       "grid_gap": null,
       "grid_row": null,
       "grid_template_areas": null,
       "grid_template_columns": null,
       "grid_template_rows": null,
       "height": null,
       "justify_content": null,
       "justify_items": null,
       "left": null,
       "margin": null,
       "max_height": null,
       "max_width": null,
       "min_height": null,
       "min_width": null,
       "object_fit": null,
       "object_position": null,
       "order": null,
       "overflow": null,
       "overflow_x": null,
       "overflow_y": null,
       "padding": null,
       "right": null,
       "top": null,
       "visibility": null,
       "width": null
      }
     },
     "63a7556558b044d8a9d0c027915c9286": {
      "model_module": "@jupyter-widgets/base",
      "model_module_version": "1.2.0",
      "model_name": "LayoutModel",
      "state": {
       "_model_module": "@jupyter-widgets/base",
       "_model_module_version": "1.2.0",
       "_model_name": "LayoutModel",
       "_view_count": null,
       "_view_module": "@jupyter-widgets/base",
       "_view_module_version": "1.2.0",
       "_view_name": "LayoutView",
       "align_content": null,
       "align_items": null,
       "align_self": null,
       "border": null,
       "bottom": null,
       "display": null,
       "flex": null,
       "flex_flow": null,
       "grid_area": null,
       "grid_auto_columns": null,
       "grid_auto_flow": null,
       "grid_auto_rows": null,
       "grid_column": null,
       "grid_gap": null,
       "grid_row": null,
       "grid_template_areas": null,
       "grid_template_columns": null,
       "grid_template_rows": null,
       "height": null,
       "justify_content": null,
       "justify_items": null,
       "left": null,
       "margin": null,
       "max_height": null,
       "max_width": null,
       "min_height": null,
       "min_width": null,
       "object_fit": null,
       "object_position": null,
       "order": null,
       "overflow": null,
       "overflow_x": null,
       "overflow_y": null,
       "padding": null,
       "right": null,
       "top": null,
       "visibility": null,
       "width": null
      }
     },
     "6cb353c884384544931cf19a3ef876eb": {
      "model_module": "@jupyter-widgets/base",
      "model_module_version": "1.2.0",
      "model_name": "LayoutModel",
      "state": {
       "_model_module": "@jupyter-widgets/base",
       "_model_module_version": "1.2.0",
       "_model_name": "LayoutModel",
       "_view_count": null,
       "_view_module": "@jupyter-widgets/base",
       "_view_module_version": "1.2.0",
       "_view_name": "LayoutView",
       "align_content": null,
       "align_items": null,
       "align_self": null,
       "border": null,
       "bottom": null,
       "display": null,
       "flex": null,
       "flex_flow": null,
       "grid_area": null,
       "grid_auto_columns": null,
       "grid_auto_flow": null,
       "grid_auto_rows": null,
       "grid_column": null,
       "grid_gap": null,
       "grid_row": null,
       "grid_template_areas": null,
       "grid_template_columns": null,
       "grid_template_rows": null,
       "height": null,
       "justify_content": null,
       "justify_items": null,
       "left": null,
       "margin": null,
       "max_height": null,
       "max_width": null,
       "min_height": null,
       "min_width": null,
       "object_fit": null,
       "object_position": null,
       "order": null,
       "overflow": null,
       "overflow_x": null,
       "overflow_y": null,
       "padding": null,
       "right": null,
       "top": null,
       "visibility": null,
       "width": null
      }
     },
     "6e713245a30f4182b9ecb0d3953f371c": {
      "model_module": "@jupyter-widgets/base",
      "model_module_version": "1.2.0",
      "model_name": "LayoutModel",
      "state": {
       "_model_module": "@jupyter-widgets/base",
       "_model_module_version": "1.2.0",
       "_model_name": "LayoutModel",
       "_view_count": null,
       "_view_module": "@jupyter-widgets/base",
       "_view_module_version": "1.2.0",
       "_view_name": "LayoutView",
       "align_content": null,
       "align_items": null,
       "align_self": null,
       "border": null,
       "bottom": null,
       "display": null,
       "flex": null,
       "flex_flow": null,
       "grid_area": null,
       "grid_auto_columns": null,
       "grid_auto_flow": null,
       "grid_auto_rows": null,
       "grid_column": null,
       "grid_gap": null,
       "grid_row": null,
       "grid_template_areas": null,
       "grid_template_columns": null,
       "grid_template_rows": null,
       "height": null,
       "justify_content": null,
       "justify_items": null,
       "left": null,
       "margin": null,
       "max_height": null,
       "max_width": null,
       "min_height": null,
       "min_width": null,
       "object_fit": null,
       "object_position": null,
       "order": null,
       "overflow": null,
       "overflow_x": null,
       "overflow_y": null,
       "padding": null,
       "right": null,
       "top": null,
       "visibility": null,
       "width": null
      }
     },
     "6fd9a428c44a40aa997c5da359aa7dc8": {
      "model_module": "@jupyter-widgets/controls",
      "model_module_version": "1.5.0",
      "model_name": "ProgressStyleModel",
      "state": {
       "_model_module": "@jupyter-widgets/controls",
       "_model_module_version": "1.5.0",
       "_model_name": "ProgressStyleModel",
       "_view_count": null,
       "_view_module": "@jupyter-widgets/base",
       "_view_module_version": "1.2.0",
       "_view_name": "StyleView",
       "bar_color": null,
       "description_width": ""
      }
     },
     "72bb26599e744a0995ca33ce52137996": {
      "model_module": "@jupyter-widgets/base",
      "model_module_version": "1.2.0",
      "model_name": "LayoutModel",
      "state": {
       "_model_module": "@jupyter-widgets/base",
       "_model_module_version": "1.2.0",
       "_model_name": "LayoutModel",
       "_view_count": null,
       "_view_module": "@jupyter-widgets/base",
       "_view_module_version": "1.2.0",
       "_view_name": "LayoutView",
       "align_content": null,
       "align_items": null,
       "align_self": null,
       "border": null,
       "bottom": null,
       "display": null,
       "flex": null,
       "flex_flow": null,
       "grid_area": null,
       "grid_auto_columns": null,
       "grid_auto_flow": null,
       "grid_auto_rows": null,
       "grid_column": null,
       "grid_gap": null,
       "grid_row": null,
       "grid_template_areas": null,
       "grid_template_columns": null,
       "grid_template_rows": null,
       "height": null,
       "justify_content": null,
       "justify_items": null,
       "left": null,
       "margin": null,
       "max_height": null,
       "max_width": null,
       "min_height": null,
       "min_width": null,
       "object_fit": null,
       "object_position": null,
       "order": null,
       "overflow": null,
       "overflow_x": null,
       "overflow_y": null,
       "padding": null,
       "right": null,
       "top": null,
       "visibility": null,
       "width": null
      }
     },
     "79a6b728bc9d475ca787085ecfc843ce": {
      "model_module": "@jupyter-widgets/controls",
      "model_module_version": "1.5.0",
      "model_name": "HBoxModel",
      "state": {
       "_dom_classes": [],
       "_model_module": "@jupyter-widgets/controls",
       "_model_module_version": "1.5.0",
       "_model_name": "HBoxModel",
       "_view_count": null,
       "_view_module": "@jupyter-widgets/controls",
       "_view_module_version": "1.5.0",
       "_view_name": "HBoxView",
       "box_style": "",
       "children": [
        "IPY_MODEL_c15c65b1f0ca483893520bbb3e65bb45",
        "IPY_MODEL_9fcea27d03914e8e83a84bb8bbf3a67a",
        "IPY_MODEL_e1ed2a66b9824859a05ab249aaa9bac0"
       ],
       "layout": "IPY_MODEL_5782c03309e64ce5a18f8da67f5dc506"
      }
     },
     "8a072a5db4174ad7ba9a84cb7b74b862": {
      "model_module": "@jupyter-widgets/controls",
      "model_module_version": "1.5.0",
      "model_name": "FloatProgressModel",
      "state": {
       "_dom_classes": [],
       "_model_module": "@jupyter-widgets/controls",
       "_model_module_version": "1.5.0",
       "_model_name": "FloatProgressModel",
       "_view_count": null,
       "_view_module": "@jupyter-widgets/controls",
       "_view_module_version": "1.5.0",
       "_view_name": "ProgressView",
       "bar_style": "success",
       "description": "",
       "description_tooltip": null,
       "layout": "IPY_MODEL_72bb26599e744a0995ca33ce52137996",
       "max": 30108,
       "min": 0,
       "orientation": "horizontal",
       "style": "IPY_MODEL_6fd9a428c44a40aa997c5da359aa7dc8",
       "value": 30108
      }
     },
     "91e875423c4b41019eecce7abe6c178c": {
      "model_module": "@jupyter-widgets/controls",
      "model_module_version": "1.5.0",
      "model_name": "FloatProgressModel",
      "state": {
       "_dom_classes": [],
       "_model_module": "@jupyter-widgets/controls",
       "_model_module_version": "1.5.0",
       "_model_name": "FloatProgressModel",
       "_view_count": null,
       "_view_module": "@jupyter-widgets/controls",
       "_view_module_version": "1.5.0",
       "_view_name": "ProgressView",
       "bar_style": "success",
       "description": "",
       "description_tooltip": null,
       "layout": "IPY_MODEL_2c398dbf93ba4c28a996c5681c6a416b",
       "max": 30108,
       "min": 0,
       "orientation": "horizontal",
       "style": "IPY_MODEL_9b4fa87378a94b238bae85990002a78b",
       "value": 30108
      }
     },
     "91f8a1597b7945b4887e66def3db26b4": {
      "model_module": "@jupyter-widgets/base",
      "model_module_version": "1.2.0",
      "model_name": "LayoutModel",
      "state": {
       "_model_module": "@jupyter-widgets/base",
       "_model_module_version": "1.2.0",
       "_model_name": "LayoutModel",
       "_view_count": null,
       "_view_module": "@jupyter-widgets/base",
       "_view_module_version": "1.2.0",
       "_view_name": "LayoutView",
       "align_content": null,
       "align_items": null,
       "align_self": null,
       "border": null,
       "bottom": null,
       "display": null,
       "flex": null,
       "flex_flow": null,
       "grid_area": null,
       "grid_auto_columns": null,
       "grid_auto_flow": null,
       "grid_auto_rows": null,
       "grid_column": null,
       "grid_gap": null,
       "grid_row": null,
       "grid_template_areas": null,
       "grid_template_columns": null,
       "grid_template_rows": null,
       "height": null,
       "justify_content": null,
       "justify_items": null,
       "left": null,
       "margin": null,
       "max_height": null,
       "max_width": null,
       "min_height": null,
       "min_width": null,
       "object_fit": null,
       "object_position": null,
       "order": null,
       "overflow": null,
       "overflow_x": null,
       "overflow_y": null,
       "padding": null,
       "right": null,
       "top": null,
       "visibility": null,
       "width": null
      }
     },
     "93bb9c272c1a4002b07b0f14036690c0": {
      "model_module": "@jupyter-widgets/base",
      "model_module_version": "1.2.0",
      "model_name": "LayoutModel",
      "state": {
       "_model_module": "@jupyter-widgets/base",
       "_model_module_version": "1.2.0",
       "_model_name": "LayoutModel",
       "_view_count": null,
       "_view_module": "@jupyter-widgets/base",
       "_view_module_version": "1.2.0",
       "_view_name": "LayoutView",
       "align_content": null,
       "align_items": null,
       "align_self": null,
       "border": null,
       "bottom": null,
       "display": null,
       "flex": null,
       "flex_flow": null,
       "grid_area": null,
       "grid_auto_columns": null,
       "grid_auto_flow": null,
       "grid_auto_rows": null,
       "grid_column": null,
       "grid_gap": null,
       "grid_row": null,
       "grid_template_areas": null,
       "grid_template_columns": null,
       "grid_template_rows": null,
       "height": null,
       "justify_content": null,
       "justify_items": null,
       "left": null,
       "margin": null,
       "max_height": null,
       "max_width": null,
       "min_height": null,
       "min_width": null,
       "object_fit": null,
       "object_position": null,
       "order": null,
       "overflow": null,
       "overflow_x": null,
       "overflow_y": null,
       "padding": null,
       "right": null,
       "top": null,
       "visibility": null,
       "width": null
      }
     },
     "9b4fa87378a94b238bae85990002a78b": {
      "model_module": "@jupyter-widgets/controls",
      "model_module_version": "1.5.0",
      "model_name": "ProgressStyleModel",
      "state": {
       "_model_module": "@jupyter-widgets/controls",
       "_model_module_version": "1.5.0",
       "_model_name": "ProgressStyleModel",
       "_view_count": null,
       "_view_module": "@jupyter-widgets/base",
       "_view_module_version": "1.2.0",
       "_view_name": "StyleView",
       "bar_color": null,
       "description_width": ""
      }
     },
     "9fcea27d03914e8e83a84bb8bbf3a67a": {
      "model_module": "@jupyter-widgets/controls",
      "model_module_version": "1.5.0",
      "model_name": "FloatProgressModel",
      "state": {
       "_dom_classes": [],
       "_model_module": "@jupyter-widgets/controls",
       "_model_module_version": "1.5.0",
       "_model_name": "FloatProgressModel",
       "_view_count": null,
       "_view_module": "@jupyter-widgets/controls",
       "_view_module_version": "1.5.0",
       "_view_name": "ProgressView",
       "bar_style": "success",
       "description": "",
       "description_tooltip": null,
       "layout": "IPY_MODEL_5aadaf9f380d4eaba459cf863504023b",
       "max": 7537,
       "min": 0,
       "orientation": "horizontal",
       "style": "IPY_MODEL_fb09f61d0c8f4c768e38973eff042b3f",
       "value": 7537
      }
     },
     "aa2edf0bf0874aa996b83d18bdbf01fd": {
      "model_module": "@jupyter-widgets/controls",
      "model_module_version": "1.5.0",
      "model_name": "DescriptionStyleModel",
      "state": {
       "_model_module": "@jupyter-widgets/controls",
       "_model_module_version": "1.5.0",
       "_model_name": "DescriptionStyleModel",
       "_view_count": null,
       "_view_module": "@jupyter-widgets/base",
       "_view_module_version": "1.2.0",
       "_view_name": "StyleView",
       "description_width": ""
      }
     },
     "ab37820ac69e48a789001769e8272b29": {
      "model_module": "@jupyter-widgets/controls",
      "model_module_version": "1.5.0",
      "model_name": "HTMLModel",
      "state": {
       "_dom_classes": [],
       "_model_module": "@jupyter-widgets/controls",
       "_model_module_version": "1.5.0",
       "_model_name": "HTMLModel",
       "_view_count": null,
       "_view_module": "@jupyter-widgets/controls",
       "_view_module_version": "1.5.0",
       "_view_name": "HTMLView",
       "description": "",
       "description_tooltip": null,
       "layout": "IPY_MODEL_302377e149034e9ab0bed7a65c5efadc",
       "placeholder": "​",
       "style": "IPY_MODEL_4bff0af55a174d359f299e1dd20ea583",
       "value": " 159571/159571 [00:47&lt;00:00, 3404.50it/s]"
      }
     },
     "b1a6095981204df29a0f274b133f44be": {
      "model_module": "@jupyter-widgets/base",
      "model_module_version": "1.2.0",
      "model_name": "LayoutModel",
      "state": {
       "_model_module": "@jupyter-widgets/base",
       "_model_module_version": "1.2.0",
       "_model_name": "LayoutModel",
       "_view_count": null,
       "_view_module": "@jupyter-widgets/base",
       "_view_module_version": "1.2.0",
       "_view_name": "LayoutView",
       "align_content": null,
       "align_items": null,
       "align_self": null,
       "border": null,
       "bottom": null,
       "display": null,
       "flex": null,
       "flex_flow": null,
       "grid_area": null,
       "grid_auto_columns": null,
       "grid_auto_flow": null,
       "grid_auto_rows": null,
       "grid_column": null,
       "grid_gap": null,
       "grid_row": null,
       "grid_template_areas": null,
       "grid_template_columns": null,
       "grid_template_rows": null,
       "height": null,
       "justify_content": null,
       "justify_items": null,
       "left": null,
       "margin": null,
       "max_height": null,
       "max_width": null,
       "min_height": null,
       "min_width": null,
       "object_fit": null,
       "object_position": null,
       "order": null,
       "overflow": null,
       "overflow_x": null,
       "overflow_y": null,
       "padding": null,
       "right": null,
       "top": null,
       "visibility": null,
       "width": null
      }
     },
     "b3ccb33739a8436ab2a0f8780bedb215": {
      "model_module": "@jupyter-widgets/controls",
      "model_module_version": "1.5.0",
      "model_name": "HBoxModel",
      "state": {
       "_dom_classes": [],
       "_model_module": "@jupyter-widgets/controls",
       "_model_module_version": "1.5.0",
       "_model_name": "HBoxModel",
       "_view_count": null,
       "_view_module": "@jupyter-widgets/controls",
       "_view_module_version": "1.5.0",
       "_view_name": "HBoxView",
       "box_style": "",
       "children": [
        "IPY_MODEL_e1ae55de38e8409782585dbb012863ab",
        "IPY_MODEL_91e875423c4b41019eecce7abe6c178c",
        "IPY_MODEL_3d38375e2c57492bba88dbc35bc9ceec"
       ],
       "layout": "IPY_MODEL_40e855f07fa7459087d0379ea540ef72"
      }
     },
     "be927b85e0334257bf9f14c7f7a28d92": {
      "model_module": "@jupyter-widgets/base",
      "model_module_version": "1.2.0",
      "model_name": "LayoutModel",
      "state": {
       "_model_module": "@jupyter-widgets/base",
       "_model_module_version": "1.2.0",
       "_model_name": "LayoutModel",
       "_view_count": null,
       "_view_module": "@jupyter-widgets/base",
       "_view_module_version": "1.2.0",
       "_view_name": "LayoutView",
       "align_content": null,
       "align_items": null,
       "align_self": null,
       "border": null,
       "bottom": null,
       "display": null,
       "flex": null,
       "flex_flow": null,
       "grid_area": null,
       "grid_auto_columns": null,
       "grid_auto_flow": null,
       "grid_auto_rows": null,
       "grid_column": null,
       "grid_gap": null,
       "grid_row": null,
       "grid_template_areas": null,
       "grid_template_columns": null,
       "grid_template_rows": null,
       "height": null,
       "justify_content": null,
       "justify_items": null,
       "left": null,
       "margin": null,
       "max_height": null,
       "max_width": null,
       "min_height": null,
       "min_width": null,
       "object_fit": null,
       "object_position": null,
       "order": null,
       "overflow": null,
       "overflow_x": null,
       "overflow_y": null,
       "padding": null,
       "right": null,
       "top": null,
       "visibility": null,
       "width": null
      }
     },
     "be945b3cf259447fb21c9c2e2f1e29e4": {
      "model_module": "@jupyter-widgets/base",
      "model_module_version": "1.2.0",
      "model_name": "LayoutModel",
      "state": {
       "_model_module": "@jupyter-widgets/base",
       "_model_module_version": "1.2.0",
       "_model_name": "LayoutModel",
       "_view_count": null,
       "_view_module": "@jupyter-widgets/base",
       "_view_module_version": "1.2.0",
       "_view_name": "LayoutView",
       "align_content": null,
       "align_items": null,
       "align_self": null,
       "border": null,
       "bottom": null,
       "display": null,
       "flex": null,
       "flex_flow": null,
       "grid_area": null,
       "grid_auto_columns": null,
       "grid_auto_flow": null,
       "grid_auto_rows": null,
       "grid_column": null,
       "grid_gap": null,
       "grid_row": null,
       "grid_template_areas": null,
       "grid_template_columns": null,
       "grid_template_rows": null,
       "height": null,
       "justify_content": null,
       "justify_items": null,
       "left": null,
       "margin": null,
       "max_height": null,
       "max_width": null,
       "min_height": null,
       "min_width": null,
       "object_fit": null,
       "object_position": null,
       "order": null,
       "overflow": null,
       "overflow_x": null,
       "overflow_y": null,
       "padding": null,
       "right": null,
       "top": null,
       "visibility": null,
       "width": null
      }
     },
     "bfc7ef349c564a8fa473d039c048879b": {
      "model_module": "@jupyter-widgets/controls",
      "model_module_version": "1.5.0",
      "model_name": "DescriptionStyleModel",
      "state": {
       "_model_module": "@jupyter-widgets/controls",
       "_model_module_version": "1.5.0",
       "_model_name": "DescriptionStyleModel",
       "_view_count": null,
       "_view_module": "@jupyter-widgets/base",
       "_view_module_version": "1.2.0",
       "_view_name": "StyleView",
       "description_width": ""
      }
     },
     "c15c65b1f0ca483893520bbb3e65bb45": {
      "model_module": "@jupyter-widgets/controls",
      "model_module_version": "1.5.0",
      "model_name": "HTMLModel",
      "state": {
       "_dom_classes": [],
       "_model_module": "@jupyter-widgets/controls",
       "_model_module_version": "1.5.0",
       "_model_name": "HTMLModel",
       "_view_count": null,
       "_view_module": "@jupyter-widgets/controls",
       "_view_module_version": "1.5.0",
       "_view_name": "HTMLView",
       "description": "",
       "description_tooltip": null,
       "layout": "IPY_MODEL_6e713245a30f4182b9ecb0d3953f371c",
       "placeholder": "​",
       "style": "IPY_MODEL_aa2edf0bf0874aa996b83d18bdbf01fd",
       "value": "100%"
      }
     },
     "c3bced117818491599d0402f8155cee5": {
      "model_module": "@jupyter-widgets/controls",
      "model_module_version": "1.5.0",
      "model_name": "DescriptionStyleModel",
      "state": {
       "_model_module": "@jupyter-widgets/controls",
       "_model_module_version": "1.5.0",
       "_model_name": "DescriptionStyleModel",
       "_view_count": null,
       "_view_module": "@jupyter-widgets/base",
       "_view_module_version": "1.2.0",
       "_view_name": "StyleView",
       "description_width": ""
      }
     },
     "c995195fdcc54ad5bb0491f8b04d942d": {
      "model_module": "@jupyter-widgets/base",
      "model_module_version": "1.2.0",
      "model_name": "LayoutModel",
      "state": {
       "_model_module": "@jupyter-widgets/base",
       "_model_module_version": "1.2.0",
       "_model_name": "LayoutModel",
       "_view_count": null,
       "_view_module": "@jupyter-widgets/base",
       "_view_module_version": "1.2.0",
       "_view_name": "LayoutView",
       "align_content": null,
       "align_items": null,
       "align_self": null,
       "border": null,
       "bottom": null,
       "display": null,
       "flex": null,
       "flex_flow": null,
       "grid_area": null,
       "grid_auto_columns": null,
       "grid_auto_flow": null,
       "grid_auto_rows": null,
       "grid_column": null,
       "grid_gap": null,
       "grid_row": null,
       "grid_template_areas": null,
       "grid_template_columns": null,
       "grid_template_rows": null,
       "height": null,
       "justify_content": null,
       "justify_items": null,
       "left": null,
       "margin": null,
       "max_height": null,
       "max_width": null,
       "min_height": null,
       "min_width": null,
       "object_fit": null,
       "object_position": null,
       "order": null,
       "overflow": null,
       "overflow_x": null,
       "overflow_y": null,
       "padding": null,
       "right": null,
       "top": null,
       "visibility": null,
       "width": null
      }
     },
     "d26d45fa7c87404285803bbd6f9e5692": {
      "model_module": "@jupyter-widgets/controls",
      "model_module_version": "1.5.0",
      "model_name": "HBoxModel",
      "state": {
       "_dom_classes": [],
       "_model_module": "@jupyter-widgets/controls",
       "_model_module_version": "1.5.0",
       "_model_name": "HBoxModel",
       "_view_count": null,
       "_view_module": "@jupyter-widgets/controls",
       "_view_module_version": "1.5.0",
       "_view_name": "HBoxView",
       "box_style": "",
       "children": [
        "IPY_MODEL_209becfda0394440a2da257a9aef7e29",
        "IPY_MODEL_8a072a5db4174ad7ba9a84cb7b74b862",
        "IPY_MODEL_5292f2c09e7d48e78388ce21e60822ab"
       ],
       "layout": "IPY_MODEL_91f8a1597b7945b4887e66def3db26b4"
      }
     },
     "e1ae55de38e8409782585dbb012863ab": {
      "model_module": "@jupyter-widgets/controls",
      "model_module_version": "1.5.0",
      "model_name": "HTMLModel",
      "state": {
       "_dom_classes": [],
       "_model_module": "@jupyter-widgets/controls",
       "_model_module_version": "1.5.0",
       "_model_name": "HTMLModel",
       "_view_count": null,
       "_view_module": "@jupyter-widgets/controls",
       "_view_module_version": "1.5.0",
       "_view_name": "HTMLView",
       "description": "",
       "description_tooltip": null,
       "layout": "IPY_MODEL_93bb9c272c1a4002b07b0f14036690c0",
       "placeholder": "​",
       "style": "IPY_MODEL_543537345dab4fa09414b742ec011e59",
       "value": "100%"
      }
     },
     "e1ed2a66b9824859a05ab249aaa9bac0": {
      "model_module": "@jupyter-widgets/controls",
      "model_module_version": "1.5.0",
      "model_name": "HTMLModel",
      "state": {
       "_dom_classes": [],
       "_model_module": "@jupyter-widgets/controls",
       "_model_module_version": "1.5.0",
       "_model_name": "HTMLModel",
       "_view_count": null,
       "_view_module": "@jupyter-widgets/controls",
       "_view_module_version": "1.5.0",
       "_view_name": "HTMLView",
       "description": "",
       "description_tooltip": null,
       "layout": "IPY_MODEL_6cb353c884384544931cf19a3ef876eb",
       "placeholder": "​",
       "style": "IPY_MODEL_2c9af87edb6249de87f01357c9eb738d",
       "value": " 7537/7537 [00:02&lt;00:00, 3148.96it/s]"
      }
     },
     "fb09f61d0c8f4c768e38973eff042b3f": {
      "model_module": "@jupyter-widgets/controls",
      "model_module_version": "1.5.0",
      "model_name": "ProgressStyleModel",
      "state": {
       "_model_module": "@jupyter-widgets/controls",
       "_model_module_version": "1.5.0",
       "_model_name": "ProgressStyleModel",
       "_view_count": null,
       "_view_module": "@jupyter-widgets/base",
       "_view_module_version": "1.2.0",
       "_view_name": "StyleView",
       "bar_color": null,
       "description_width": ""
      }
     }
    },
    "version_major": 2,
    "version_minor": 0
   }
  }
 },
 "nbformat": 4,
 "nbformat_minor": 4
}
